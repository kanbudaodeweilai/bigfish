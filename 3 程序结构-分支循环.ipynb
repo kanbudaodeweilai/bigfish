{
 "cells": [
  {
   "cell_type": "markdown",
   "metadata": {},
   "source": [
    "# 三大结构\n",
    "- 顺序\n",
    "- 分支\n",
    "- 循环\n",
    "## 分支\n",
    "- 分支的基本语法\n",
    "\n",
    "              if 条件表达式：         #if后边有空格 不可省略！表达式后的冒号不可省略！\n",
    "                  语句1\n",
    "                  语句2              #语句1,2，3，对齐属于同一个缩进等级\n",
    "                  语句3\n",
    "                  .....\n",
    "- 条件表达式就是结算结果必须为布尔值的表达式\n",
    "- 条件表达式结果为True执行后边的缩进语句块\n"
   ]
  },
  {
   "cell_type": "code",
   "execution_count": 4,
   "metadata": {},
   "outputs": [
    {
     "name": "stdout",
     "output_type": "stream",
     "text": [
      "去叫家长\n",
      "我们不带你玩\n",
      "滚蛋\n",
      "开始玩吧，老头子们\n"
     ]
    }
   ],
   "source": [
    "#if 语句\n",
    "age=17\n",
    "if age < 18:\n",
    "    print('去叫家长')\n",
    "    print('我们不带你玩')\n",
    "    print('滚蛋')\n",
    "    \n",
    "age=20\n",
    "if age < 18:Browse\n",
    "    print('去叫家长')\n",
    "    print('我们不带你玩')\n",
    "    print('滚蛋')\n",
    "print('开始玩吧，老头子们')"
   ]
  },
  {
   "cell_type": "markdown",
   "metadata": {},
   "source": [
    "## 双向分支\n",
    "- if ...else...语句\n",
    "              \n",
    "              if 条件表达式：\n",
    "                   语句1\n",
    "                   语句2\n",
    "                   ...\n",
    "              else：\n",
    "                   语句1\n",
    "                   语句2\n",
    "                   ...\n",
    "- 双向分支一定会执行其中一个，否者出错!\n",
    "- if else 是一个层级，语句块是一个层级"
   ]
  },
  {
   "cell_type": "code",
   "execution_count": 13,
   "metadata": {},
   "outputs": [
    {
     "name": "stdout",
     "output_type": "stream",
     "text": [
      "请输入性别:男\n",
      "您输入的性别是：男\n",
      "出去玩吧\n",
      "好了，去吃饭吧\n"
     ]
    }
   ],
   "source": [
    "gender= input('请输入性别:')\n",
    "print('您输入的性别是：{0}'.format(gender))\n",
    "if gender=='女':\n",
    "    print('去抄作业去！')\n",
    "else:\n",
    "    print('出去玩吧')\n",
    "    print('好了，去吃饭吧')"
   ]
  },
  {
   "cell_type": "code",
   "execution_count": 3,
   "metadata": {},
   "outputs": [
    {
     "name": "stdout",
     "output_type": "stream",
     "text": [
      "请输入学生成绩：55\n",
      "一边玩去\n"
     ]
    }
   ],
   "source": [
    "#考试成绩判断\n",
    "score=input('请输入学生成绩：')\n",
    "score=int(score)          #input的输入类型是str， 如若换类型，需要强制转换\n",
    "if score>90:\n",
    "    print('A')\n",
    "if score>=80 and score<90 :\n",
    "    print('B')\n",
    "if score>=70 and score<80:\n",
    "    print('C')\n",
    "if score>=60 and score<70:\n",
    "    print('D')\n",
    "if score<60:\n",
    "    print('一边玩去')\n",
    "    "
   ]
  },
  {
   "cell_type": "markdown",
   "metadata": {},
   "source": [
    "## 多路分支\n",
    "- 很多分支的情况\n",
    "         \n",
    "         if 条件表达式：\n",
    "            语句1\n",
    "            ...\n",
    "         elif 条件表达式：\n",
    "              语句1\n",
    "              ...\n",
    "         elif 语句表达式：\n",
    "               语句1\n",
    "               ...\n",
    "         ....\n",
    "         else：\n",
    "              语句1\n",
    "              ...\n",
    "- else可以有很多个\n",
    "- else 可有可无\n",
    "- 多路分支只会选择一个执行\n"
   ]
  },
  {
   "cell_type": "markdown",
   "metadata": {},
   "source": [
    "# 循环语句\n",
    "- 重复执行某些固定动作或者处理基本固定的失误\n",
    "- 分类\n",
    "    - for循环\n",
    "    - while循环\n",
    "    \n",
    "## for循环\n",
    "             \n",
    "            for 变量 in 序列：\n",
    "                语句1\n",
    "                语句2\n",
    "                ...\n",
    "                \n",
    "               "
   ]
  },
  {
   "cell_type": "code",
   "execution_count": 6,
   "metadata": {},
   "outputs": [
    {
     "name": "stdout",
     "output_type": "stream",
     "text": [
      "zhangsan\n",
      "抄作业去！\n",
      "lisi\n",
      "抄作业去！\n",
      "wangnwu\n",
      "抄作业去！\n",
      "lala\n",
      "出去玩去！\n"
     ]
    }
   ],
   "source": [
    "# 列表就是一列数字或或者其他，一般用中括号表示\n",
    "# 例如 【‘zhangsan’，‘lisi’，‘wangwu’】\n",
    "\n",
    "#打印学生列表姓名\n",
    "a=['zhangsan','lisi','wangnwu','lala']\n",
    "for name in a:\n",
    "    print(name)\n",
    "    if name =='lala':\n",
    "        print('出去玩去！')\n",
    "    else:\n",
    "         print('抄作业去！')\n",
    "    "
   ]
  },
  {
   "cell_type": "markdown",
   "metadata": {},
   "source": [
    "## range介绍\n",
    "- 生成一个数字序列\n",
    "- 具体范围可以设定\n"
   ]
  },
  {
   "cell_type": "code",
   "execution_count": 8,
   "metadata": {},
   "outputs": [
    {
     "name": "stdout",
     "output_type": "stream",
     "text": [
      "1\n",
      "2\n",
      "3\n",
      "4\n",
      "5\n",
      "6\n",
      "7\n",
      "8\n",
      "9\n",
      "10\n"
     ]
    }
   ],
   "source": [
    "# range练习\n",
    "# 打印从1-10的数字\n",
    "for i in range(1,11): #区间是【1,11）\n",
    "    print(i)"
   ]
  },
  {
   "cell_type": "markdown",
   "metadata": {},
   "source": [
    "## for -else 语句\n",
    "- 当for循环结束的时候，会执行else语句\n",
    "- else语句是可选的"
   ]
  },
  {
   "cell_type": "code",
   "execution_count": 9,
   "metadata": {},
   "outputs": [
    {
     "name": "stdout",
     "output_type": "stream",
     "text": [
      "zhangsan\n",
      "抄作业去！\n",
      "lisi\n",
      "抄作业去！\n",
      "wangnwu\n",
      "抄作业去！\n",
      "lala\n",
      "出去玩去！\n",
      "玩完抄完都去吃饭去！\n"
     ]
    }
   ],
   "source": [
    "a=['zhangsan','lisi','wangnwu','lala']\n",
    "for name in a:\n",
    "    print(name)\n",
    "    if name =='lala':\n",
    "        print('出去玩去！')\n",
    "    else:\n",
    "         print('抄作业去！')\n",
    "else:\n",
    "    print('玩完抄完都去吃饭去！')"
   ]
  },
  {
   "cell_type": "markdown",
   "metadata": {},
   "source": [
    "## 循环之break， continue， pass\n",
    "- break：无条件结束整个循环\n",
    "- continue ： 无条件结束本次循环，重新进入下一轮循环\n",
    "- pass： 表示路过\n"
   ]
  },
  {
   "cell_type": "code",
   "execution_count": 18,
   "metadata": {},
   "outputs": [
    {
     "name": "stdout",
     "output_type": "stream",
     "text": [
      "1\n",
      "2\n",
      "3\n",
      "4\n",
      "5\n",
      "6\n",
      "这就是7\n"
     ]
    }
   ],
   "source": [
    "# break\n",
    "#在数字1-10中，寻找数字7，一旦找到，打印出来，其余什么都不做\n",
    "for i in range(1,11):\n",
    "    if i==7:\n",
    "        print('这就是7')\n",
    "        break\n",
    "    else:\n",
    "        print(i)\n",
    "\n",
    "    \n"
   ]
  },
  {
   "cell_type": "code",
   "execution_count": 23,
   "metadata": {},
   "outputs": [
    {
     "name": "stdout",
     "output_type": "stream",
     "text": [
      "2 是偶数\n",
      "4 是偶数\n",
      "6 是偶数\n",
      "8 是偶数\n",
      "10 是偶数\n"
     ]
    }
   ],
   "source": [
    "#continue\n",
    "#在数字1-10种，寻找所有的偶数，找到后打印偶数\n",
    "\n",
    "for i in range(1,11):\n",
    "    if i%2==1:\n",
    "        \n",
    "        continue\n",
    "    else:\n",
    "        print('{0} 是偶数'.format(i))"
   ]
  },
  {
   "cell_type": "code",
   "execution_count": 24,
   "metadata": {},
   "outputs": [],
   "source": [
    "# pass例子，一般用于占位置\n",
    "for i in range(1,10):\n",
    "    pass"
   ]
  },
  {
   "cell_type": "code",
   "execution_count": null,
   "metadata": {},
   "outputs": [],
   "source": []
  },
  {
   "cell_type": "code",
   "execution_count": null,
   "metadata": {},
   "outputs": [],
   "source": []
  }
 ],
 "metadata": {
  "kernelspec": {
   "display_name": "Python 3",
   "language": "python",
   "name": "python3"
  },
  "language_info": {
   "codemirror_mode": {
    "name": "ipython",
    "version": 3
   },
   "file_extension": ".py",
   "mimetype": "text/x-python",
   "name": "python",
   "nbconvert_exporter": "python",
   "pygments_lexer": "ipython3",
   "version": "3.6.5"
  }
 },
 "nbformat": 4,
 "nbformat_minor": 2
}
