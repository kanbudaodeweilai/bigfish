{
 "cells": [
  {
   "cell_type": "markdown",
   "metadata": {},
   "source": [
    "# 文件\n",
    "- 长久保存信息的一种数据信息集合\n",
    "- 常用操作\n",
    "    - 打开关闭（文件一旦代开，需要关闭操作）\n",
    "    - 读写内容\n",
    "    - 查找\n",
    "# open函数\n",
    "- open 函数负责代开文件，带有很多参数\n",
    "- 第一个参数：必须有，文件的路径和名称\n",
    "- mode: 表明文件用什么方式打开\n",
    "    - r：以只读方式打开\n",
    "    - w：写方式打开，会覆盖以前的内容\n",
    "    - x：创建方式打开（新建然后打开），如文件已经存在，报错\n",
    "    - a：append方式，以追加的方式对内容进行写入\n",
    "    - b：binary方式，二进制的方式写入\n",
    "    - t：文本方式打开\n",
    "    - +：可读写\n",
    "    "
   ]
  },
  {
   "cell_type": "code",
   "execution_count": 2,
   "metadata": {
    "scrolled": true
   },
   "outputs": [
    {
     "data": {
      "text/plain": [
       "<function TextIOWrapper.close()>"
      ]
     },
     "execution_count": 2,
     "metadata": {},
     "output_type": "execute_result"
    }
   ],
   "source": [
    "# 打开文件，用写的方式\n",
    "# r: 表示后面字符串内容不需要转义\n",
    "# f称为文件句柄\n",
    "f = open(r\"test01.txt\",'w')\n",
    "# 文件打开后必须关闭\n",
    "f.close\n",
    "\n",
    "#此案例说明，以写的方式打开文件，默认是如果没有文件，则创建\n"
   ]
  },
  {
   "cell_type": "code",
   "execution_count": 3,
   "metadata": {},
   "outputs": [],
   "source": [
    "# with语句案例\n",
    "with open(r'test01.txt','r') as f:\n",
    "    pass\n",
    "    # 下面语句开始对文件f进行操作\n",
    "    # 在本模块中不需要关闭文件f\n",
    "    "
   ]
  },
  {
   "cell_type": "code",
   "execution_count": 9,
   "metadata": {},
   "outputs": [
    {
     "name": "stdout",
     "output_type": "stream",
     "text": [
      "假若他日相逢\n",
      "\n",
      "我将何以贺你\n",
      "\n",
      "以沉默\n",
      "\n",
      "以眼泪\n"
     ]
    }
   ],
   "source": [
    "# with案例\n",
    "with open(r'test01.txt','r',encoding='UTF-8') as f:\n",
    "    #按行读取内容\n",
    "    strline = f.readline()\n",
    "    #此结构能够保证完整读取文件直到结束\n",
    "    while strline:\n",
    "        print(strline)\n",
    "        strline = f.readline()"
   ]
  },
  {
   "cell_type": "code",
   "execution_count": 10,
   "metadata": {},
   "outputs": [
    {
     "name": "stdout",
     "output_type": "stream",
     "text": [
      "假若他日相逢\n",
      "\n",
      "我将何以贺你\n",
      "\n",
      "以沉默\n",
      "\n",
      "以眼泪\n"
     ]
    }
   ],
   "source": [
    "# list 能用代开的文件作为参数，吧文件每一行内容作文一个元素\n",
    "\n",
    "with open(r'test01.txt','r',encoding='UTF-8') as f:\n",
    "    l = list(f)\n",
    "    for line in l:\n",
    "        print(line)"
   ]
  },
  {
   "cell_type": "code",
   "execution_count": 33,
   "metadata": {},
   "outputs": [
    {
     "name": "stdout",
     "output_type": "stream",
     "text": [
      "21\n",
      "假若他日相逢\n",
      "我将何以贺你\n",
      "以沉默\n",
      "以眼泪\n",
      "假若他日相逢\n",
      "我将何以贺你\n",
      "以沉默\n",
      "以眼泪"
     ]
    }
   ],
   "source": [
    "# read 是按字符读取文件内容\n",
    "# 允许输入参数决定读取几个字符，若果没有制定，从当前位置读取到结尾\n",
    "# 否则，从当前位置读取指定个数字符\n",
    "\n",
    "with open(r'test01.txt','r',encoding='UTF-8') as f:\n",
    "    strChar = f.read()\n",
    "    print(len(strChar))\n",
    "    print(strChar)\n",
    "    #遍历\n",
    "    for i in strChar:\n",
    "        print(i,end = '')\n",
    "    "
   ]
  },
  {
   "cell_type": "markdown",
   "metadata": {},
   "source": [
    "# seek(offset,from)\n",
    "- 移动文件的读取位置，也叫读取指针\n",
    "- from的取值范围：\n",
    "    - 0：从文件开头开始偏移\n",
    "    - 1：从文件当前位置开始偏移\n",
    "    - 2：从文件末尾开始偏移\n",
    "- 移动的单位是字节（byte）\n",
    "- 一个汉字由若干个字节组成\n",
    "- 返回文件只针对当前位置"
   ]
  },
  {
   "cell_type": "code",
   "execution_count": 31,
   "metadata": {},
   "outputs": [
    {
     "name": "stdout",
     "output_type": "stream",
     "text": [
      "日相逢\n",
      "我将何以贺你\n",
      "以沉默\n",
      "以眼泪\n"
     ]
    }
   ],
   "source": [
    "# seek案例\n",
    "#打开文件后，从第9个字节开始读取\n",
    "with open(r'test01.txt','r',encoding='UTF-8') as f:\n",
    "    # seek的移动单位是字节\n",
    "    f.seek(9,0)\n",
    "    strChar = f.read()\n",
    "    print(strChar)\n",
    "# 字节不对会报错\n"
   ]
  },
  {
   "cell_type": "code",
   "execution_count": 34,
   "metadata": {},
   "outputs": [
    {
     "name": "stdout",
     "output_type": "stream",
     "text": [
      "假若他\n",
      "日相逢\n",
      "\n",
      "我将\n",
      "何以贺\n",
      "你\n",
      "以\n",
      "沉默\n",
      "\n",
      "以眼泪\n"
     ]
    }
   ],
   "source": [
    "# 关于读取文件的联系\n",
    "# 打开文件，三个字符一组读出内容，然后显示到屏幕上\n",
    "#没读一次，休息一秒钟\n",
    "\n",
    "import time\n",
    "with open(r'test01.txt','r',encoding='UTF-8') as f:\n",
    "    strchar = f.read(3)\n",
    "    while strchar:\n",
    "        print(strchar)\n",
    "        time.sleep(1)\n",
    "        strchar = f.read(3)"
   ]
  },
  {
   "cell_type": "code",
   "execution_count": 35,
   "metadata": {},
   "outputs": [
    {
     "name": "stdout",
     "output_type": "stream",
     "text": [
      "9\n",
      "假若他\n",
      "18\n",
      "日相逢\n",
      "25\n",
      "\n",
      "我将\n",
      "34\n",
      "何以贺\n",
      "41\n",
      "你\n",
      "以\n",
      "48\n",
      "沉默\n",
      "\n",
      "57\n",
      "以眼泪\n"
     ]
    }
   ],
   "source": [
    "#tell函数：用来显示文件读写指针的当前位置\n",
    "with open(r'test01.txt','r',encoding='UTF-8') as f:\n",
    "    strchar = f.read(3)\n",
    "    pos = f.tell()\n",
    "    \n",
    "    while strchar:\n",
    "        print(pos)\n",
    "        print(strchar)\n",
    "        \n",
    "        strchar = f.read(3)\n",
    "        pos = f.tell()\n",
    "#tell返回的数字的单位是byte\n",
    "#read是字符为单位"
   ]
  },
  {
   "cell_type": "markdown",
   "metadata": {},
   "source": [
    "# 文件的写操作 - write\n",
    "- write（str）：把字符串写入文件\n",
    "- writeline（str）：吧字符串按行写入文件\n",
    "- 区别：\n",
    "    - write函数参数只能是字符串\n",
    "    - write参数可以是字符串，也可以是字符序列"
   ]
  },
  {
   "cell_type": "code",
   "execution_count": 9,
   "metadata": {},
   "outputs": [
    {
     "name": "stdout",
     "output_type": "stream",
     "text": [
      "假若他日相逢\n",
      "我将何以贺你\n",
      "以沉默\n",
      "以眼泪你本无意穿堂风，偏偏孤倨引山洪你本无意穿堂风，偏偏孤倨引山洪你本无意穿堂风，偏偏孤倨引山洪\n"
     ]
    }
   ],
   "source": [
    "# write案例\n",
    "#1.向文件追加一句诗\n",
    "# a代表追加方式打开\n",
    "with open(r'test01.txt','a',encoding='UTF-8') as f:\n",
    "    f.write('你本无意穿堂风，偏偏孤倨引山洪')\n",
    "with open(r'test01.txt','r',encoding='UTF-8') as f:\n",
    "    h = f.read()\n",
    "    print(h)"
   ]
  },
  {
   "cell_type": "code",
   "execution_count": 10,
   "metadata": {},
   "outputs": [],
   "source": [
    "with open(r'test01.txt','a',encoding='UTF-8') as f:\n",
    "    # 注意字符串内含有换行符\n",
    "    f.writelines('想饮一些酒')\n",
    "    f.writelines('让灵魂失重')\n",
    "    f.writelines('好被风吹走')"
   ]
  },
  {
   "cell_type": "markdown",
   "metadata": {},
   "source": [
    "# 持久化 - pickle\n",
    "- 序列化（持久化，落地）：吧程序运行中的信息采集在磁盘上\n",
    "- 反序列化：序列化的逆过程\n",
    "- pickle: python提供的序列化模块\n",
    "- pickle.dump：序列化\n",
    "- pickle.load：反序列化\n"
   ]
  },
  {
   "cell_type": "code",
   "execution_count": 17,
   "metadata": {},
   "outputs": [
    {
     "name": "stdout",
     "output_type": "stream",
     "text": [
      "19\n",
      "[29, 'lufei', '成为海贼王的男人', [175, 60]]\n"
     ]
    }
   ],
   "source": [
    "# 序列化案例\n",
    "import pickle\n",
    "age = 19\n",
    "\n",
    "with open(r'test01.txt','wb') as f:\n",
    "    pickle.dump(age,f)\n",
    "with open(r'test01.txt','rb') as f:\n",
    "    age = pickle.load(f)\n",
    "    print(age)\n",
    "    \n",
    "import pickle\n",
    "a = [29,'lufei','成为海贼王的男人',[175,60]]\n",
    "\n",
    "with open(r'test01.txt','wb') as f:\n",
    "    pickle.dump(a,f)\n",
    "with open(r'test01.txt','rb') as f:\n",
    "    a = pickle.load(f)\n",
    "    print(a)"
   ]
  },
  {
   "cell_type": "code",
   "execution_count": null,
   "metadata": {},
   "outputs": [],
   "source": []
  },
  {
   "cell_type": "code",
   "execution_count": null,
   "metadata": {},
   "outputs": [],
   "source": []
  },
  {
   "cell_type": "code",
   "execution_count": null,
   "metadata": {},
   "outputs": [],
   "source": []
  },
  {
   "cell_type": "code",
   "execution_count": null,
   "metadata": {},
   "outputs": [],
   "source": []
  },
  {
   "cell_type": "code",
   "execution_count": null,
   "metadata": {},
   "outputs": [],
   "source": []
  },
  {
   "cell_type": "code",
   "execution_count": null,
   "metadata": {},
   "outputs": [],
   "source": []
  }
 ],
 "metadata": {
  "kernelspec": {
   "display_name": "Python 3",
   "language": "python",
   "name": "python3"
  },
  "language_info": {
   "codemirror_mode": {
    "name": "ipython",
    "version": 3
   },
   "file_extension": ".py",
   "mimetype": "text/x-python",
   "name": "python",
   "nbconvert_exporter": "python",
   "pygments_lexer": "ipython3",
   "version": "3.7.0"
  }
 },
 "nbformat": 4,
 "nbformat_minor": 2
}
