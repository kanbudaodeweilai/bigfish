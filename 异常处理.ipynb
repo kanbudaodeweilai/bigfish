{
 "cells": [
  {
   "cell_type": "markdown",
   "metadata": {},
   "source": [
    "# 异常\n",
    "- 广义上的错误分吴错误和异常\n",
    "- 错误指的是可以人为避免\n",
    "- 异常是指在语法逻辑正确的前提下，出现问题\n",
    "- 在Python里，异常是一个类，可以处理和使用\n",
    "     \n",
    "python标准异常\n",
    "异常名称\t描述\n",
    "BaseException\t所有异常的基类\n",
    "SystemExit\t解释器请求退出\n",
    "KeyboardInterrupt\t用户中断执行(通常是输入^C)\n",
    "Exception\t常规错误的基类\n",
    "StopIteration\t迭代器没有更多的值\n",
    "GeneratorExit\t生成器(generator)发生异常来通知退出\n",
    "StandardError\t所有的内建标准异常的基类\n",
    "ArithmeticError\t所有数值计算错误的基类\n",
    "FloatingPointError\t浮点计算错误\n",
    "OverflowError\t数值运算超出最大限制\n",
    "ZeroDivisionError\t除(或取模)零 (所有数据类型)\n",
    "AssertionError\t断言语句失败\n",
    "AttributeError\t对象没有这个属性\n",
    "EOFError\t没有内建输入,到达EOF 标记\n",
    "EnvironmentError\t操作系统错误的基类\n",
    "IOError\t输入/输出操作失败\n",
    "OSError\t操作系统错误\n",
    "WindowsError\t系统调用失败\n",
    "ImportError\t导入模块/对象失败\n",
    "LookupError\t无效数据查询的基类\n",
    "IndexError\t序列中没有此索引(index)\n",
    "KeyError\t映射中没有这个键\n",
    "MemoryError\t内存溢出错误(对于Python 解释器不是致命的)\n",
    "NameError\t未声明/初始化对象 (没有属性)\n",
    "UnboundLocalError\t访问未初始化的本地变量\n",
    "ReferenceError\t弱引用(Weak reference)试图访问已经垃圾回收了的对象\n",
    "RuntimeError\t一般的运行时错误\n",
    "NotImplementedError\t尚未实现的方法\n",
    "SyntaxError\tPython 语法错误\n",
    "IndentationError\t缩进错误\n",
    "TabError\tTab 和空格混用\n",
    "SystemError\t一般的解释器系统错误\n",
    "TypeError\t对类型无效的操作\n",
    "ValueError\t传入无效的参数\n",
    "UnicodeError\tUnicode 相关的错误\n",
    "UnicodeDecodeError\tUnicode 解码时的错误\n",
    "UnicodeEncodeError\tUnicode 编码时错误\n",
    "UnicodeTranslateError\tUnicode 转换时错误\n",
    "Warning\t警告的基类\n",
    "DeprecationWarning\t关于被弃用的特征的警告\n",
    "FutureWarning\t关于构造将来语义会有改变的警告\n",
    "OverflowWarning\t旧的关于自动提升为长整型(long)的警告\n",
    "PendingDeprecationWarning\t关于特性将会被废弃的警告\n",
    "RuntimeWarning\t可疑的运行时行为(runtime behavior)的警告\n",
    "SyntaxWarning\t可疑的语法的警告\n",
    "UserWarning\t用户代码生成的警告\n"
   ]
  },
  {
   "cell_type": "markdown",
   "metadata": {},
   "source": [
    "# 异常处理\n",
    "- 不能保证程序永远不出问题\n",
    "- 但是，必须保证程序在最坏的情况下得到的问题被妥善处理\n",
    "- Python的异常处理模块全部语法为：\n",
    "      \n",
    "      \n",
    "          try:\n",
    "              尝试实现某个操作，\n",
    "              如果没出现异常，任务就可以完成\n",
    "              如果出现异常，将异常从当前代码块扔出去尝试解决异常\n",
    "\n",
    "          except 异常类型1:\n",
    "              解决方案1：用于尝试在此处处理异常解决问题\n",
    "\n",
    "          except 异常类型2：\n",
    "              解决方案2：用于尝试在此处处理异常解决问题\n",
    "\n",
    "          except (异常类型1,异常类型2...)\n",
    "              解决方案：针对多个异常使用相同的处理方式\n",
    "\n",
    "          excpet:\n",
    "              解决方案：所有异常的解决方案\n",
    "\n",
    "          else:\n",
    "              如果没有出现任何异常，将会执行此处代码\n",
    "\n",
    "          finally:\n",
    "              管你有没有异常都要执行的代码\n",
    "- 流程\n",
    "    1. 执行try下面的语句\n",
    "    2. 如果出现异常，则在except语句里查找对应异常病进行处理\n",
    "    3. 如果没有出现异常，则执行else语句内容\n",
    "    4. 最后，不管食肉出现异常，都要执行finally语句\n",
    "- 除except（最骚一个）以外，else和finally可选\n",
    "- 如果是多种error情况\n",
    "- 需要吧越具体的错误越往前放\n",
    "- 越是父类的错误，越要往后放\n",
    "- 在处理异常的时候，一旦拦截到某个异常，则不在继续往下查看，这届进行下一个代码，即有finally语句块，否者就执行下一个大的语句"
   ]
  },
  {
   "cell_type": "code",
   "execution_count": 1,
   "metadata": {},
   "outputs": [
    {
     "name": "stdout",
     "output_type": "stream",
     "text": [
      "请输入数字：0\n",
      "输入0 ， 你有病啊\n",
      "division by zero\n"
     ]
    }
   ],
   "source": [
    "# 简单的异常案例\n",
    "try:\n",
    "    num = int(input('请输入数字：'))\n",
    "    rst = 100/num\n",
    "    print('计算结果是：{}'.format(rst))\n",
    "    #捕获异常后，吧异常实例化，出错信息会在实例里\n",
    "    #注意一下写法\n",
    "    #一下语句是捕获ZeroDivisionError异常并实例化实例e\n",
    "except ZeroDivisionError as e:#输入0.\n",
    "        #ValueError 是 输入例如asd这样的。\n",
    "    print('输入0 ， 你有病啊')\n",
    "    print(e)\n",
    "    #exit是退出程序的意识\n",
    "    exit()\n",
    "except ValueError as e:\n",
    "    \n",
    "    print('你输如的是什么破玩意')\n",
    "    print(e)\n",
    "    #exit是退出程序的意识\n",
    "    exit()"
   ]
  },
  {
   "cell_type": "code",
   "execution_count": 2,
   "metadata": {},
   "outputs": [
    {
     "name": "stdout",
     "output_type": "stream",
     "text": [
      "请输入数字：asda\n",
      "Exception\n",
      "不管怎么样，我都会被执行，哈哈哈哈\n"
     ]
    }
   ],
   "source": [
    "#else语句案例：\n",
    "try:\n",
    "    num = int(input('请输入数字：'))\n",
    "    rst = 100/num\n",
    "    print('计算结果是：{}'.format(rst))\n",
    "except Exception as e:\n",
    "    print('Exception')\n",
    "\n",
    "else:\n",
    "    print('No Excepton')\n",
    "finally:\n",
    "    print('不管怎么样，我都会被执行，哈哈哈哈')"
   ]
  },
  {
   "cell_type": "code",
   "execution_count": null,
   "metadata": {},
   "outputs": [],
   "source": []
  },
  {
   "cell_type": "code",
   "execution_count": null,
   "metadata": {},
   "outputs": [],
   "source": []
  },
  {
   "cell_type": "code",
   "execution_count": null,
   "metadata": {},
   "outputs": [],
   "source": []
  },
  {
   "cell_type": "code",
   "execution_count": null,
   "metadata": {},
   "outputs": [],
   "source": []
  },
  {
   "cell_type": "code",
   "execution_count": null,
   "metadata": {},
   "outputs": [],
   "source": []
  },
  {
   "cell_type": "code",
   "execution_count": null,
   "metadata": {},
   "outputs": [],
   "source": []
  },
  {
   "cell_type": "code",
   "execution_count": null,
   "metadata": {},
   "outputs": [],
   "source": []
  },
  {
   "cell_type": "code",
   "execution_count": null,
   "metadata": {},
   "outputs": [],
   "source": []
  },
  {
   "cell_type": "code",
   "execution_count": null,
   "metadata": {},
   "outputs": [],
   "source": []
  },
  {
   "cell_type": "code",
   "execution_count": null,
   "metadata": {},
   "outputs": [],
   "source": []
  },
  {
   "cell_type": "code",
   "execution_count": null,
   "metadata": {},
   "outputs": [],
   "source": []
  },
  {
   "cell_type": "code",
   "execution_count": null,
   "metadata": {},
   "outputs": [],
   "source": []
  },
  {
   "cell_type": "code",
   "execution_count": null,
   "metadata": {},
   "outputs": [],
   "source": []
  },
  {
   "cell_type": "code",
   "execution_count": null,
   "metadata": {},
   "outputs": [],
   "source": []
  },
  {
   "cell_type": "code",
   "execution_count": null,
   "metadata": {},
   "outputs": [],
   "source": []
  },
  {
   "cell_type": "code",
   "execution_count": null,
   "metadata": {},
   "outputs": [],
   "source": []
  },
  {
   "cell_type": "code",
   "execution_count": null,
   "metadata": {},
   "outputs": [],
   "source": []
  },
  {
   "cell_type": "code",
   "execution_count": null,
   "metadata": {},
   "outputs": [],
   "source": []
  },
  {
   "cell_type": "code",
   "execution_count": null,
   "metadata": {},
   "outputs": [],
   "source": []
  },
  {
   "cell_type": "code",
   "execution_count": null,
   "metadata": {},
   "outputs": [],
   "source": []
  },
  {
   "cell_type": "code",
   "execution_count": null,
   "metadata": {},
   "outputs": [],
   "source": []
  },
  {
   "cell_type": "code",
   "execution_count": null,
   "metadata": {},
   "outputs": [],
   "source": []
  },
  {
   "cell_type": "code",
   "execution_count": null,
   "metadata": {},
   "outputs": [],
   "source": []
  },
  {
   "cell_type": "code",
   "execution_count": null,
   "metadata": {},
   "outputs": [],
   "source": []
  },
  {
   "cell_type": "code",
   "execution_count": null,
   "metadata": {},
   "outputs": [],
   "source": []
  },
  {
   "cell_type": "code",
   "execution_count": null,
   "metadata": {},
   "outputs": [],
   "source": []
  }
 ],
 "metadata": {
  "kernelspec": {
   "display_name": "Python 3",
   "language": "python",
   "name": "python3"
  },
  "language_info": {
   "codemirror_mode": {
    "name": "ipython",
    "version": 3
   },
   "file_extension": ".py",
   "mimetype": "text/x-python",
   "name": "python",
   "nbconvert_exporter": "python",
   "pygments_lexer": "ipython3",
   "version": "3.6.6"
  }
 },
 "nbformat": 4,
 "nbformat_minor": 2
}
