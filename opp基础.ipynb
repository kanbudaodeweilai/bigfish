{
 "cells": [
  {
   "cell_type": "code",
   "execution_count": 5,
   "metadata": {},
   "outputs": [
    {
     "name": "stdout",
     "output_type": "stream",
     "text": [
      "lufei\n",
      "18\n",
      "140657499496664\n",
      "10943552\n",
      "********************\n",
      "lufei\n",
      "18\n",
      "140657499496664\n",
      "10943552\n",
      "********************\n",
      "{'name': 'zero', 'age': 20}\n",
      "zero\n",
      "20\n",
      "140657499381864\n",
      "10943616\n"
     ]
    }
   ],
   "source": [
    "class Student():\n",
    "    name = 'lufei'\n",
    "    age = 18 \n",
    "    \n",
    "print(Student.name)\n",
    "print(Student.age)\n",
    "\n",
    "\n",
    "print(id(Student.name))\n",
    "print(id(Student.age))\n",
    "\n",
    "print('*' * 20)\n",
    "\n",
    "a = Student()\n",
    "\n",
    "print(a.name)\n",
    "print(a.age)\n",
    "print(id(a.name))\n",
    "print(id(a.age))\n",
    "\n",
    "print('*' * 20)\n",
    "\n",
    "a.name = 'zero'\n",
    "a.age = 20\n",
    "print(a.__dict__)\n",
    "\n",
    "print(a.name)\n",
    "print(a.age)\n",
    "print(id(a.name)) # name ， age 都已经改变，但改变的是对象a的  并不是类Student的\n",
    "print(id(a.age))\n"
   ]
  },
  {
   "cell_type": "markdown",
   "metadata": {},
   "source": [
    "# 关于self\n",
    "- self 在对象的方法中表示当前对象的本身，如果通过对象调用一个方法，那么该对象会自动传入到当前方法的第一个参数中"
   ]
  },
  {
   "cell_type": "code",
   "execution_count": 17,
   "metadata": {},
   "outputs": [
    {
     "name": "stdout",
     "output_type": "stream",
     "text": [
      "lalala\n",
      "18\n",
      "my name is aaaa\n",
      "my age is 18\n"
     ]
    }
   ],
   "source": [
    "class Student():\n",
    "    name = 'lalala'\n",
    "    age = 18\n",
    "    \n",
    "    def say(self):\n",
    "        self.name = 'aaaa'\n",
    "        self.age = 200\n",
    "        print('my name is {0}'.format(self.name))\n",
    "        #调用类的成员变量需要用__class__\n",
    "        print('my age is {0}'.format(__class__.age))\n",
    "        \n",
    "yueyue = Student()\n",
    "print(yueyue.name)\n",
    "print(yueyue.age)\n",
    "\n",
    "yueyue.say()"
   ]
  },
  {
   "cell_type": "code",
   "execution_count": 16,
   "metadata": {},
   "outputs": [
    {
     "name": "stdout",
     "output_type": "stream",
     "text": [
      "my name is aaaa\n",
      "my age is 200\n",
      "lalala\n",
      "18\n"
     ]
    }
   ],
   "source": [
    "class A():\n",
    "    name = 'lalala'\n",
    "    age = 18\n",
    "    \n",
    "    def say(self):\n",
    "        self.name = 'aaaa'\n",
    "        self.age = 200\n",
    "        print('my name is {0}'.format(self.name))\n",
    "        print('my age is {0}'.format(self.age))\n",
    "    def sayAgain():\n",
    "        print(A.name)\n",
    "        print(A.age)\n",
    "b = A()\n",
    "b.say()\n",
    "#b.sayAgain()是错误的，因为默认第一个参数，所以要使用下列 调用绑定类函数使用类名\n",
    "A.sayAgain()\n"
   ]
  },
  {
   "cell_type": "code",
   "execution_count": 22,
   "metadata": {},
   "outputs": [
    {
     "name": "stdout",
     "output_type": "stream",
     "text": [
      "aaaa\n",
      "20\n",
      "bbb\n",
      "30\n",
      "aaaa\n",
      "20\n",
      "lalala\n",
      "18\n"
     ]
    }
   ],
   "source": [
    "class A():\n",
    "    name = 'lalala'\n",
    "    age = 18\n",
    "    \n",
    "    def __init__(self):\n",
    "        self.name = 'aaaa'\n",
    "        self.age = 20\n",
    "    def say(self):\n",
    "        print(self.name)\n",
    "        print(self.age)\n",
    "class B():\n",
    "    name = 'bbb'\n",
    "    age =30\n",
    "\n",
    "a = A()\n",
    "a.say()\n",
    "\n",
    "#A.say() 缺少参数， 不能运行. 修改如下\n",
    "\n",
    "\n",
    "A.say(a)\n",
    "A.say(A)\n",
    "#因为B同样具有name，age属性，所以不会报错\n",
    "A.say(B)"
   ]
  },
  {
   "cell_type": "markdown",
   "metadata": {},
   "source": [
    " # 面向对象的三大特性\n",
    " - 封装\n",
    " - 继承\n",
    " - 多态\n",
    " \n",
    "## 封装 \n",
    "- 封装就是对对象成员进行访问限制\n",
    "- 封装的三个级别\n",
    "    - 公开 public\n",
    "    - 受保护的  protected\n",
    "    - 私有的  private\n",
    "    - 以上三种不是关键字\n",
    "- 判别对象的位置\n",
    "    - 对象内部\n",
    "    - 对象外部\n",
    "    - 子类中\n",
    "- 私有\n",
    "    - 私有成员是最高级别的封装，只能在当前类或者对象中访问\n",
    "    - 在成员前面添加两个下划线即可\n",
    "                \n",
    "                class Person():\n",
    "                    #name就是共有成员\n",
    "                    name = 'lalala'\n",
    "                    #age就是私有成员\n",
    "                    __age = 18\n",
    "    - Python的私有不是真私有，其实是改了个名\n",
    "        - 可以使用name mangling技术实现访问\n",
    "- 受保护的封装\n",
    "    - 将对象成员进行一定级别的封装，然后在类或者子类中都可以进行访问，但是外部可以\n",
    "    - 封装的方法 在成员名称前加一个下划线\n",
    "- 公有的\n",
    "    -公共的封装实际对成员没有任何操作，任何地方都可以访问\n",
    "                   "
   ]
  },
  {
   "cell_type": "code",
   "execution_count": 25,
   "metadata": {},
   "outputs": [
    {
     "name": "stdout",
     "output_type": "stream",
     "text": [
      "lalala\n",
      "{'__module__': '__main__', 'name': 'lalala', '_Person__age': 18, '__dict__': <attribute '__dict__' of 'Person' objects>, '__weakref__': <attribute '__weakref__' of 'Person' objects>, '__doc__': None}\n",
      "19\n"
     ]
    }
   ],
   "source": [
    "# 私有变量的运用\n",
    "class Person():\n",
    "    #name就是共有成员\n",
    "    name = 'lalala'\n",
    "    #age就是私有成员\n",
    "    \n",
    "    __age = 18\n",
    "p = Person()\n",
    "print(p.name)\n",
    "#print(p.__age) #访问不到\n",
    "\n",
    "#可以查看私有的变量被改名为什么\n",
    "print(Person.__dict__)\n",
    "\n",
    "#name mangling 技术  就可以实现访问\n",
    "p._Person__age = 19\n",
    "print(p._Person__age)\n",
    "\n",
    "    "
   ]
  },
  {
   "cell_type": "markdown",
   "metadata": {},
   "source": [
    "# 继承\n",
    "- 继承是一个类可以获得另一个类种的成员属性和成员方法\n",
    "- 作用： 减少代码，增加代码的复用功能，同时可以设置类与类的直接关系\n",
    "- 继承与被继承的概念：\n",
    "    - 被继承的叫做父类 ，基类，超类\n",
    "    - 用于继承的类叫做子类，派生类\n",
    "- 继承的特征：\n",
    "    - 所有的类都继承自objec类，所有的类都是object的子类\n",
    "    - 子类一旦继承父类，即可以使用父类中除了隐私成员外的所有内容\n",
    "    - 子类继承父类后并没有讲父类成员完全赋值到子类中，而是通过引用关系访问调出\n",
    "    - 子类种可以定义独有的成员属性和方法\n",
    "    - 子类种定义的成员和分类成员如果相同，则优先使用子类的尘缘\n",
    "    - 子类如果想扩抽分类的方法。可以在定义新方法的同时访问分类成员来进行代码重用，可以使用父类名，父类成员的格式来调用父类成员，也可以使用super（）。之类成员的格式来调用。\n",
    "    "
   ]
  },
  {
   "cell_type": "code",
   "execution_count": 27,
   "metadata": {},
   "outputs": [
    {
     "name": "stdout",
     "output_type": "stream",
     "text": [
      "lalala\n",
      "{}\n"
     ]
    }
   ],
   "source": [
    "#继承的语法\n",
    "#在python种，任何类都有一个共同分父类叫做object\n",
    "class person():\n",
    "    name = 'kobe '\n",
    "    age = 40\n",
    "    \n",
    "    def sleep(sleep):\n",
    "        print('sleeping...')\n",
    "class Teacher(Person):\n",
    "    pass\n",
    "t = Teacher()\n",
    "print(t.name)\n",
    "print(t.__dict__)"
   ]
  },
  {
   "cell_type": "code",
   "execution_count": 4,
   "metadata": {},
   "outputs": [
    {
     "name": "stdout",
     "output_type": "stream",
     "text": [
      "i am init in dog\n"
     ]
    }
   ],
   "source": [
    "#构造函数的概念\n",
    "class Dog():\n",
    "    #__init__就是构造函数\n",
    "    #每次实例化的时候，第一个被调用\n",
    "    #因为主要工作就是初始化，所以得名\n",
    "    def __init__(self):\n",
    "        print('i am init in dog')\n",
    "#实例化的时候，括号内的参数需要跟构造哈数参数匹配\n",
    "lala = Dog()\n",
    "        "
   ]
  },
  {
   "cell_type": "code",
   "execution_count": 1,
   "metadata": {},
   "outputs": [
    {
     "name": "stdout",
     "output_type": "stream",
     "text": [
      "i am init in dog\n"
     ]
    }
   ],
   "source": [
    "#继承中的构造函数-1\n",
    "class Animel():\n",
    "    pass\n",
    "class PaxingAni(Animel):\n",
    "    pass\n",
    "class Dog(PaxingAni):\n",
    "    def __init__(self):\n",
    "        print('i am init in dog')\n",
    "    \n",
    "#自动掉用了Dog的实例化内容\n",
    "#因为找到了构造函数，则不在查找分类的构造函数\n",
    "lala = Dog()\n"
   ]
  },
  {
   "cell_type": "markdown",
   "metadata": {},
   "source": [
    "# 单继承和多继承\n",
    "- 单继承：每个类只能继承一个类\n",
    "- 多继承: 每个类允许继承多个类（不推荐，易混乱）\n",
    "- 菱形继承/钻石继承问题\n",
    "    - 多个子类继承自同一个父类，这些子类又被同一个子类继承，构成菱形图案\n",
    "    - 【MRO】\n",
    "    - 关于mro的问题：\n",
    "        - 子类永远在父类前面\n",
    "        - 如果多个父类，则根据继承语法中括号欧内类的书写顺序存放\n",
    "        - 如果多个类继承同一个父类，孙子类种只会选取继承语法括号中第一个父类的父类\n"
   ]
  },
  {
   "cell_type": "code",
   "execution_count": 7,
   "metadata": {},
   "outputs": [
    {
     "name": "stdout",
     "output_type": "stream",
     "text": [
      "i am flying\n",
      "i am swimming\n"
     ]
    }
   ],
   "source": [
    "#多继承的例子\n",
    "#子类可以直接拥有父类的属性，私有除外\n",
    "class Fish():\n",
    "    def __init__(self,name):\n",
    "        self.name = name\n",
    "    def swim(self):\n",
    "        print('i am swimming')\n",
    "class Bird():\n",
    "    def __init__(self,name):\n",
    "        self.name = name\n",
    "    def fly(self):\n",
    "        print('i am flying')\n",
    "class Person():\n",
    "    def __init__(self,name):\n",
    "        \n",
    "        self.name = name\n",
    "    def work(self):\n",
    "        print('i am working')\n",
    "class SuperMan(Person,Bird,Fish):\n",
    "    pass\n",
    "\n",
    "s = SuperMan('lala')\n",
    "s.fly()\n",
    "s.swim()"
   ]
  },
  {
   "cell_type": "code",
   "execution_count": 2,
   "metadata": {},
   "outputs": [],
   "source": [
    "#菱形继承问题\n",
    "class A():\n",
    "    pass\n",
    "class B(A):\n",
    "    pass\n",
    "class C(A):\n",
    "    pass\n",
    "class D(B,C):\n",
    "    pass\n",
    "\n",
    "    "
   ]
  },
  {
   "cell_type": "markdown",
   "metadata": {},
   "source": [
    "# 构造函数\n",
    "- 在对象进行实例化的时候，系统自动调用的一个函数叫构造函数，通常此函数用来对事例对象进行初始化"
   ]
  },
  {
   "cell_type": "code",
   "execution_count": 4,
   "metadata": {},
   "outputs": [
    {
     "name": "stdout",
     "output_type": "stream",
     "text": [
      "In init func\n"
     ]
    }
   ],
   "source": [
    "#构造函数例子\n",
    "class Person():\n",
    "    #对person类进行实例化的时候\n",
    "    #名字要确定\n",
    "    #年龄要确定\n",
    "    #地址要确定\n",
    "    def __init__(self):\n",
    "        self.name = 'NoName'\n",
    "        self.age = 18\n",
    "        self.address = 'Studentwhonheim'\n",
    "        print('In init func')\n",
    "#实例化一个人\n",
    "P = Person()"
   ]
  },
  {
   "cell_type": "code",
   "execution_count": 15,
   "metadata": {},
   "outputs": [
    {
     "name": "stdout",
     "output_type": "stream",
     "text": [
      "B\n",
      "我是C\n",
      "这是c种的附加功能\n"
     ]
    }
   ],
   "source": [
    "#调用函数的调用顺序\n",
    "#如果子类没有写构造函数，则自动向上查找，直到找到\n",
    "class A():\n",
    "    def __init__(self):\n",
    "        print('A')\n",
    "class B(A):\n",
    "    def __init__(self,name):\n",
    "        print('B')\n",
    "        print(name)\n",
    "class C(B):\n",
    "    # c中想扩展B的构造函数\n",
    "    # 即调用B的构造函数后再添加一些功能\n",
    "    # 由两种方法实现\n",
    "    '''\n",
    "    # 第一种是通过父类名调用\n",
    "    def __init__(self,name):\n",
    "        #首先调用父类的构造函数\n",
    "        B.__init__(self,name)\n",
    "        # 其次再增加自己的功能\n",
    "        print('这是c中的附加功能')\n",
    "    '''\n",
    "    #第二种，使用super调用\n",
    "    def __init__(self,name):\n",
    "        #首先调用父类的构造函数\n",
    "        super(C,self).__init__(name)\n",
    "        #其次，再增加自己的功能\n",
    "        print('这是c种的附加功能')\n",
    "\n",
    "d = C('我是C')\n"
   ]
  },
  {
   "cell_type": "markdown",
   "metadata": {},
   "source": [
    "# 多态\n",
    "- 多态就是同一个对象在不同情况下有不同的状态出现\n",
    "- 多态不是语法， 而是一种设计思想\n",
    "- 多态性：一种调用方式，不用的执行效果\n",
    "- Mixin设计模式\n",
    "    - 主要采用多继承方式对类的功能进行扩展\n",
    "- 使用多继承方法实现Mixin\n",
    "- 使用Mixin实现多继承的时候非常小心\n",
    "    - 首先他必须表示单一功能，而不是某个物品\n",
    "    - 职责必须单一，如果有多个功能，必须写多个Mixin\n",
    "    - Mixin不能依赖于子类的实现\n",
    "    - 子类即使没有继承这个Mixin类，也能照样工作，只是少了某个功能\n",
    "- 优点\n",
    "    - 使用Mixin可以在不对类进行任何修改的情况下扩充功能\n",
    "    - 可以方便的组织和维护不同的功能组件的划分\n",
    "    - 可以根据需要任意调整功能类的组合\n",
    "    - 可以避免创建很多新的类，导致类的继承混乱"
   ]
  },
  {
   "cell_type": "code",
   "execution_count": 2,
   "metadata": {},
   "outputs": [
    {
     "name": "stdout",
     "output_type": "stream",
     "text": [
      "(<class '__main__.Tutor'>, <class '__main__.Teacher'>, <class '__main__.Student'>, <class '__main__.Person'>, <class 'object'>)\n",
      "{}\n",
      "{'__module__': '__main__', '__doc__': None}\n",
      "********************\n",
      "(<class '__main__.Tutor'>, <class '__main__.Teacher'>, <class '__main__.Student'>, <class '__main__.Person'>, <class 'object'>)\n",
      "{}\n",
      "{'__module__': '__main__', '__doc__': None}\n"
     ]
    }
   ],
   "source": [
    "# Minxin案例\n",
    "class Person():\n",
    "    name = 'lufei'\n",
    "    age = 18\n",
    "    \n",
    "    def eat(self):\n",
    "        print('eating...')\n",
    "        \n",
    "    def drink(self):\n",
    "        print('drinking...')\n",
    "        \n",
    "    def sleep(slef):\n",
    "        print('sleeping...')\n",
    "class Teacher(Person):\n",
    "    def work(self):\n",
    "        print('working')\n",
    "\n",
    "class Student(Person):\n",
    "    def study(self):\n",
    "        print('stuying...')\n",
    "        \n",
    "class Tutor(Teacher,Student):\n",
    "    pass\n",
    "t1= Tutor()\n",
    "\n",
    "print(Tutor.__mro__)\n",
    "print(t.__dict__)\n",
    "print(Tutor.__dict__)\n",
    "\n",
    "print('*'* 20)\n",
    "\n",
    "class TeacherMixin():\n",
    "    def work(self):\n",
    "        print('work...')\n",
    "class StudentMixin():\n",
    "    def study(self):\n",
    "        print('study')\n",
    "class TutorMixin(Person,TeacherMixin,StudentMixin):\n",
    "    pass\n",
    "        \n",
    "t2 = Tutor()\n",
    "\n",
    "print(Tutor.__mro__)\n",
    "print(t.__dict__)\n",
    "print(Tutor.__dict__)\n",
    "        "
   ]
  },
  {
   "cell_type": "code",
   "execution_count": 1,
   "metadata": {},
   "outputs": [
    {
     "name": "stdout",
     "output_type": "stream",
     "text": [
      "True\n",
      "False\n"
     ]
    }
   ],
   "source": [
    "# issubclass 检测一个类是不是另一个类的子类\n",
    "# isinstance 检测一个对象是否是一个类的实例\n",
    "#\n",
    "class A():\n",
    "    pass\n",
    "a=A()\n",
    "\n",
    "print(isinstance(a,A))\n",
    "print(isinstance(A,A))\n"
   ]
  },
  {
   "cell_type": "code",
   "execution_count": null,
   "metadata": {},
   "outputs": [],
   "source": [
    "#hasatter:检测一个对象是否有成员XXX\n",
    "class A():\n",
    "    name = 'NoName'\n",
    "\n",
    "a = A()\n",
    "print(hasatter)"
   ]
  },
  {
   "cell_type": "markdown",
   "metadata": {},
   "source": [
    "# 类的成员描述符（属性）\n",
    "- 类的成员描述符是为了在类长对类的成员属性进行相关操作而创建的一种方式\n",
    "    - get：获取属性的操作\n",
    "    - set:修改或者添加属性操作\n",
    "    - delete：删除属性的操作\n",
    "    - \n",
    "- 如果想使用类的成员描述符，有三种方法\n",
    "    - 使用类实现描述器\n",
    "    - 使用属性修饰符\n",
    "    - 使用property函数\n",
    "        - property函数很简单\n",
    "        - property（fget，fset，fdel，doc）"
   ]
  },
  {
   "cell_type": "code",
   "execution_count": 7,
   "metadata": {},
   "outputs": [
    {
     "name": "stdout",
     "output_type": "stream",
     "text": [
      "hello,my name is lufei\n",
      "hello,my name is KOBE\n"
     ]
    }
   ],
   "source": [
    "#属性案例\n",
    "#创建一个Student类，描述学生类。\n",
    "#学生具有Student.name属性\n",
    "#但name格式并不统一\n",
    "class Student():\n",
    "    def __init__(self,name,age):\n",
    "        self.name = name\n",
    "        self.age = age\n",
    "        \n",
    "        #果果不想重写代码\n",
    "        self.setName(name)\n",
    "        \n",
    "    # 介绍下自己\n",
    "    def intro(self):\n",
    "        print('hello,my name is {0}'.format(self.name))\n",
    "        \n",
    "    def setName(self,name):\n",
    "        self.name = name.upper()\n",
    "        \n",
    "s1 = Student('lufei',19)\n",
    "s2 = Student('KOBE',39)\n",
    "\n",
    "s1.intro()\n",
    "s2.intro()"
   ]
  },
  {
   "cell_type": "code",
   "execution_count": 2,
   "metadata": {},
   "outputs": [
    {
     "name": "stdout",
     "output_type": "stream",
     "text": [
      "ASDSDA SDASFA AS ASDSDA SDASFA AS \n"
     ]
    }
   ],
   "source": [
    "# peroperty案例\n",
    "# 定义一个person类，具有name，age属性\n",
    "#对于任意输入的姓名，我们希望都用大写保存\n",
    "#年龄，我们希望内部统一用整数保存\n",
    "#x = property（fget，fset，fdel，doc）\n",
    "class Person():\n",
    "    def fget(self):\n",
    "        return self._name * 2\n",
    "    \n",
    "    def fset(self,name):\n",
    "        #所有输入的名字以大写形式保存\n",
    "        self._name = name.upper()\n",
    "        \n",
    "    def fdel(self):\n",
    "        self._name= ' NoName'\n",
    "        \n",
    "    name = property(fget , fset ,fdel,'对name进行下操作')\n",
    "    \n",
    "p1 = Person()\n",
    "\n",
    "p1.name = 'ASDsda sdasfa as '# 赋值调用fset函数\n",
    "print(p1.name)#读功能执行 fget函数\n",
    "\n"
   ]
  },
  {
   "cell_type": "code",
   "execution_count": 5,
   "metadata": {},
   "outputs": [
    {
     "name": "stdout",
     "output_type": "stream",
     "text": [
      "19\n"
     ]
    }
   ],
   "source": [
    "#1. 在用户输入年龄的时候，可以输入，小数，浮点数\n",
    "#2. 但内部为了数据清洁，我们统一保存整数，直接舍去小数点\n",
    "\n",
    "class Age():\n",
    "    def fget(self):\n",
    "        return self._age\n",
    "    \n",
    "    def fset(self,age):\n",
    "        self._age = int(age)\n",
    "        \n",
    "    def fdel(self):\n",
    "        self._age = ' 错误'\n",
    "    age = property(fget , fset, fdel, '将age强行以整数保存')\n",
    "\n",
    "a1 = Age()\n",
    "\n",
    "a1.age = 19.8565\n",
    "\n",
    "print(a1.age)\n",
    "        "
   ]
  },
  {
   "cell_type": "markdown",
   "metadata": {},
   "source": [
    "#  类的内置属性\n",
    "        \n",
    "        __dict__:以字典的方式显示类的成员\n",
    "        __doc__:获取类的文档信息\n",
    "        __name__:获取类的名称，如果在模块中使用，获取模块的名称\n",
    "        __bases__:获取某个类的所有父类，一元组的方式显示\n",
    "        "
   ]
  },
  {
   "cell_type": "code",
   "execution_count": 7,
   "metadata": {},
   "outputs": [
    {
     "name": "stdout",
     "output_type": "stream",
     "text": [
      "{'__module__': '__main__', 'fget': <function Person.fget at 0x7fa1fc673ea0>, 'fset': <function Person.fset at 0x7fa1fc673e18>, 'fdel': <function Person.fdel at 0x7fa1fc673d90>, 'name': <property object at 0x7fa1fc6eb138>, '__dict__': <attribute '__dict__' of 'Person' objects>, '__weakref__': <attribute '__weakref__' of 'Person' objects>, '__doc__': None}\n"
     ]
    }
   ],
   "source": [
    "# 类的属性距离\n",
    "print(Person.__dict__)"
   ]
  },
  {
   "cell_type": "markdown",
   "metadata": {},
   "source": [
    "# 类的魔术方法\n",
    "- 魔术方法就是不需要认为调用的方法，基本是在特定的时间自动触发\n",
    "- 魔术方法的统一特征，方法名被前后各两个下划线包裹。\n",
    "- 操作类相关\n",
    "    - __init__:构造函数\n",
    "    - __new__:对象实例化方法，次函数比较特殊，一般不使用\n",
    "    - __call__：对象当函数使用的时候触发\n",
    "    - __str__: 当对象被当做字符串使用是触发\n",
    "    - __repr__： 返回字符串\n",
    "- 描述符相关；\n",
    "    - __set__\n",
    "    - __get__\n",
    "    - __delete__\n",
    "- 属性操作相关:\n",
    "    - __getattr__:访问一个不存在的属性时触发\n",
    "    - __setattr__: 对成员属性进行设置的时候触发\n",
    "        - 参数:\n",
    "            - self 用来获取当前对象\n",
    "            - 被设置的属性的名称，一字符串形式出现\n",
    "            - 需要对属性名称设置的值\n",
    "        - 作用：进行属性设置的时候进行验证或者修改\n",
    "        - 注意： 在该方法长不能对属性直接进行赋值操作，否者死循环\n",
    "- 运算分类相关的魔术方法\n",
    "    - __gt__:进行大于判断的时候触发的函数\n",
    "         - 参数：\n",
    "             - self\n",
    "             - 第二个参数是第二个对象\n",
    "             - 返回值可以是任意值，推荐返回布尔值\n",
    "             \n",
    "        "
   ]
  },
  {
   "cell_type": "code",
   "execution_count": 1,
   "metadata": {},
   "outputs": [
    {
     "name": "stdout",
     "output_type": "stream",
     "text": [
      "哈哈，我被调用了\n"
     ]
    }
   ],
   "source": [
    "#init举例\n",
    "class A():\n",
    "    def __init__(sefl,name = 0):\n",
    "        print('哈哈，我被调用了')\n",
    "a = A()"
   ]
  },
  {
   "cell_type": "code",
   "execution_count": 3,
   "metadata": {},
   "outputs": [
    {
     "name": "stdout",
     "output_type": "stream",
     "text": [
      "哈哈，我被调用了\n",
      "我又被调用了\n"
     ]
    }
   ],
   "source": [
    "# __call__举例\n",
    "class A():\n",
    "    def __init__(sefl,name = 0):\n",
    "        print('哈哈，我被调用了')\n",
    "    def __call__(self):\n",
    "        print('我又被调用了')\n",
    "a = A()\n",
    "a()"
   ]
  },
  {
   "cell_type": "code",
   "execution_count": 5,
   "metadata": {},
   "outputs": [
    {
     "name": "stdout",
     "output_type": "stream",
     "text": [
      "哈哈，我被调用了\n",
      "字符串\n"
     ]
    }
   ],
   "source": [
    "# __str__举例\n",
    "class A():\n",
    "    def __init__(sefl,name = 0):\n",
    "        print('哈哈，我被调用了')\n",
    "    def __str__(self):\n",
    "        \n",
    "        return '字符串'\n",
    "a = A()\n",
    "print(a)"
   ]
  },
  {
   "cell_type": "code",
   "execution_count": 9,
   "metadata": {},
   "outputs": [
    {
     "name": "stdout",
     "output_type": "stream",
     "text": [
      "NoName\n",
      "没找到\n",
      "sex\n",
      "None\n"
     ]
    }
   ],
   "source": [
    "# __getattr__ 举例\n",
    "class A():\n",
    "    name = 'NoName'\n",
    "    age = 18\n",
    "    \n",
    "    def __getattr__(self,name):\n",
    "        \n",
    "        print('没找到')\n",
    "        print(name)\n",
    "        \n",
    "a = A()\n",
    "\n",
    "print(a.name)\n",
    "print(a.sex)\n",
    "    "
   ]
  },
  {
   "cell_type": "code",
   "execution_count": 14,
   "metadata": {},
   "outputs": [
    {
     "name": "stdout",
     "output_type": "stream",
     "text": [
      "{}\n",
      "设置属性：age\n"
     ]
    }
   ],
   "source": [
    "#__setattr__案例：\n",
    "class Person():\n",
    "    def __init__(self):\n",
    "        pass\n",
    "    def __setattr__(self ,name,value):\n",
    "        print('设置属性：{0}'.format(name))\n",
    "        #下面语句会导致问题。死循环\n",
    "        #self.name = value\n",
    "        # 此种情况，为了避免死循环，对顶统一调用父类的魔法函数\n",
    "        super().__setattr__(name,value)\n",
    "p = Person()\n",
    "print(p.__dict__)\n",
    "p.age = 18\n",
    " "
   ]
  },
  {
   "cell_type": "code",
   "execution_count": 26,
   "metadata": {},
   "outputs": [
    {
     "name": "stdout",
     "output_type": "stream",
     "text": [
      "one会比two大吗？比one会比two大吗？大吗\n",
      "False\n"
     ]
    }
   ],
   "source": [
    "# __gt__举例\n",
    "class Student():\n",
    "    def __init__(self,name):\n",
    "        self._name = name\n",
    "    def __gt__(self,obj):\n",
    "        print('{0}比{1}大吗'.format(self,obj))\n",
    "        return self._name > obj._name\n",
    "    def __str__(self):\n",
    "        \n",
    "        return 'one会比two大吗？'\n",
    "    \n",
    "# 字符串的比较规则： 以字符是ASCII值确定，比较规则是，从第一个字符开始，顺次向后直到出现不同的字符为止，然后以第一个不同的字符的ASCII值确定，例如上面的”abc”和\"aabdfg\"，由于第一个字符相同，都是'a'所以看下一个字符，第二个字符，一个是'b',一个是‘a'，由于b的ASCII值比a的ASCII值大，所以，这二个字符串的比较结果是\"abc\">\"aabdfg\"    \n",
    "stu1 = Student('one')\n",
    "stu2 = Student('two')\n",
    "print(stu1 > stu2)"
   ]
  },
  {
   "cell_type": "markdown",
   "metadata": {},
   "source": [
    "# 类和对象的三种方法\n",
    "- 实例方法\n",
    "    - 需要实例化对象才能使用的方法，使用过程种可能需要截止对象的其他对象的方法完成\n",
    "- 静态方法\n",
    "    - 不需要实例化，通过类直接访问\n",
    "- 类方法\n",
    "- 不需要实例化\n"
   ]
  },
  {
   "cell_type": "code",
   "execution_count": 36,
   "metadata": {},
   "outputs": [
    {
     "name": "stdout",
     "output_type": "stream",
     "text": [
      "<__main__.Person object at 0x7f1f0c5f6d30>\n",
      "eating...\n",
      "<class '__main__.Person'>\n",
      "plating..\n",
      "<class '__main__.Person'>\n",
      "plating..\n",
      "saying\n",
      "saying\n"
     ]
    }
   ],
   "source": [
    "# 三种发放的案例\n",
    "class Person:\n",
    "    #事例方法\n",
    "    def eat(self):\n",
    "        print(self)\n",
    "        print('eating...')\n",
    "        \n",
    "    #类方法\n",
    "    #诶方法的第一个参数一般命名为cls，区别去self\n",
    "    @classmethod\n",
    "    def play(cls):\n",
    "        print(cls)\n",
    "        print('plating..')\n",
    "        \n",
    "    #静态方法\n",
    "    #不需要用第一个参数表示自身或者类\n",
    "    @staticmethod\n",
    "    def say():\n",
    "        print('saying')\n",
    "        \n",
    "        \n",
    "lufei = Person()\n",
    "lufei.eat()\n",
    "lufei.play()\n",
    "Person.play()\n",
    "lufei.say()\n",
    "Person.say()"
   ]
  },
  {
   "cell_type": "code",
   "execution_count": 42,
   "metadata": {},
   "outputs": [
    {
     "name": "stdout",
     "output_type": "stream",
     "text": [
      "闻一下\n"
     ]
    }
   ],
   "source": [
    "#抽象\n",
    "class Animel():\n",
    "    \n",
    "    def sayHello(self):\n",
    "        pass\n",
    "class Dog(Animel):\n",
    "    \n",
    "    def sayHello(self):\n",
    "        print('闻一下')\n",
    "        \n",
    "class Person(Animel):\n",
    "    def sayHello(self):\n",
    "        print('Kiss me ')\n",
    "\n",
    "d = Dog()\n",
    "d.sayHello()"
   ]
  },
  {
   "cell_type": "markdown",
   "metadata": {},
   "source": [
    "# 抽象类\n",
    "- 抽象类方法： 没有具体实现内容的方法成为抽象方法\n",
    "- 抽象方法的主要意义是贵方了子类的行为和接口\n",
    "- 抽象类的使用需要借助abc模块\n",
    "\n",
    "            improt abc\n",
    "- 抽象类：包含抽象方法的类叫抽象类，通常成为ABC类\n",
    "- 抽象类的使用：\n",
    "    - 抽象类可以包含抽象方法，也可以包含具体方法\n",
    "    - 抽象类中可以有方法 也可以有属性\n",
    "    - 抽象类不允许直接实例化\n",
    "    - 必须继承才可以使用，且继承的子类把必须实现所有继承来的抽象方法\n",
    "    - 假定子类没有实现所有继承的抽象方法，则子类也不能实例化\n",
    "    - 抽象类的主要作用是假定类的标准，以便于开发的时候具有统一性\n",
    "    "
   ]
  },
  {
   "cell_type": "code",
   "execution_count": 2,
   "metadata": {},
   "outputs": [
    {
     "ename": "TypeError",
     "evalue": "Can't instantiate abstract class Human with abstract methods drink, play, smoling",
     "output_type": "error",
     "traceback": [
      "\u001b[0;31m---------------------------------------------------------------------------\u001b[0m",
      "\u001b[0;31mTypeError\u001b[0m                                 Traceback (most recent call last)",
      "\u001b[0;32m<ipython-input-2-986de30793e0>\u001b[0m in \u001b[0;36m<module>\u001b[0;34m()\u001b[0m\n\u001b[1;32m     21\u001b[0m     \u001b[0;32mdef\u001b[0m \u001b[0msleep\u001b[0m\u001b[0;34m(\u001b[0m\u001b[0mself\u001b[0m\u001b[0;34m)\u001b[0m\u001b[0;34m:\u001b[0m\u001b[0;34m\u001b[0m\u001b[0m\n\u001b[1;32m     22\u001b[0m         \u001b[0mprint\u001b[0m\u001b[0;34m(\u001b[0m\u001b[0;34m'Sleeping...'\u001b[0m\u001b[0;34m)\u001b[0m\u001b[0;34m\u001b[0m\u001b[0m\n\u001b[0;32m---> 23\u001b[0;31m \u001b[0ma\u001b[0m \u001b[0;34m=\u001b[0m \u001b[0mHuman\u001b[0m\u001b[0;34m(\u001b[0m\u001b[0;34m)\u001b[0m\u001b[0;34m\u001b[0m\u001b[0m\n\u001b[0m\u001b[1;32m     24\u001b[0m \u001b[0ma\u001b[0m\u001b[0;34m.\u001b[0m\u001b[0msleep\u001b[0m\u001b[0;34m(\u001b[0m\u001b[0;34m)\u001b[0m\u001b[0;34m\u001b[0m\u001b[0m\n",
      "\u001b[0;31mTypeError\u001b[0m: Can't instantiate abstract class Human with abstract methods drink, play, smoling"
     ]
    }
   ],
   "source": [
    "#抽象类的实现\n",
    "import abc\n",
    "\n",
    "#生命一个类并且指定当前类的元素\n",
    "class Human(metaclass = abc.ABCMeta):\n",
    "    \n",
    "    #定义一个抽象的方法\n",
    "    @abc.abstractmethod\n",
    "    def smoling(self):\n",
    "        pass\n",
    "    \n",
    "    # 定义类的抽象方法\n",
    "    @abc.abstractclassmethod\n",
    "    def drink():\n",
    "        pass\n",
    "    #定义静态抽象方法\n",
    "    @abc.abstractstaticmethod\n",
    "    def play():\n",
    "        pass\n",
    "    \n",
    "    def sleep(self):\n",
    "        print('Sleeping...')\n",
    "a = Human()\n",
    "a.sleep()"
   ]
  },
  {
   "cell_type": "code",
   "execution_count": 3,
   "metadata": {},
   "outputs": [
    {
     "name": "stdout",
     "output_type": "stream",
     "text": [
      "saying...\n",
      "talking\n"
     ]
    }
   ],
   "source": [
    "#利用type创建一个类\n",
    "\n",
    "#先定义类应该具有的成员函数\n",
    "def say(self):\n",
    "    print('saying...')\n",
    "def talk(self):\n",
    "    print('talking')\n",
    "    \n",
    "#用type来创建一个类\n",
    "A = type('AName',(object,),{'class_say':say,'class_talk':talk})\n",
    "\n",
    "a= A()\n",
    "\n",
    "a.class_say()\n",
    "a.class_talk()\n",
    "\n",
    "\n",
    "    "
   ]
  },
  {
   "cell_type": "code",
   "execution_count": 7,
   "metadata": {},
   "outputs": [
    {
     "name": "stdout",
     "output_type": "stream",
     "text": [
      "saying...\n",
      "saying...\n",
      "saying....\n"
     ]
    }
   ],
   "source": [
    "#自己组装一个类\n",
    "class A():\n",
    "    pass\n",
    "def say(self):\n",
    "    print('saying...')\n",
    "class B():\n",
    "    def say(self):\n",
    "        print('saying....')\n",
    "say(9)\n",
    "A.say = say\n",
    "\n",
    "a = A()\n",
    "a.say()\n",
    "\n",
    "b=B()\n",
    "b.say()"
   ]
  },
  {
   "cell_type": "code",
   "execution_count": 10,
   "metadata": {},
   "outputs": [
    {
     "name": "stdout",
     "output_type": "stream",
     "text": [
      "saying...\n"
     ]
    }
   ],
   "source": [
    " #自己组装一个类2\n",
    "from types import MethodType\n",
    "class A():\n",
    "    pass\n",
    "def say(self):\n",
    "    print('saying...')\n",
    "    \n",
    "\n",
    "a = A()\n",
    "a.say = MethodType(say,A)\n",
    "a.say()\n"
   ]
  },
  {
   "cell_type": "code",
   "execution_count": null,
   "metadata": {},
   "outputs": [],
   "source": []
  },
  {
   "cell_type": "code",
   "execution_count": null,
   "metadata": {},
   "outputs": [],
   "source": []
  },
  {
   "cell_type": "code",
   "execution_count": null,
   "metadata": {},
   "outputs": [],
   "source": []
  },
  {
   "cell_type": "code",
   "execution_count": null,
   "metadata": {},
   "outputs": [],
   "source": []
  },
  {
   "cell_type": "code",
   "execution_count": null,
   "metadata": {},
   "outputs": [],
   "source": []
  },
  {
   "cell_type": "code",
   "execution_count": null,
   "metadata": {},
   "outputs": [],
   "source": []
  },
  {
   "cell_type": "code",
   "execution_count": null,
   "metadata": {},
   "outputs": [],
   "source": []
  },
  {
   "cell_type": "code",
   "execution_count": null,
   "metadata": {},
   "outputs": [],
   "source": []
  },
  {
   "cell_type": "code",
   "execution_count": null,
   "metadata": {},
   "outputs": [],
   "source": []
  },
  {
   "cell_type": "code",
   "execution_count": null,
   "metadata": {},
   "outputs": [],
   "source": []
  },
  {
   "cell_type": "code",
   "execution_count": null,
   "metadata": {},
   "outputs": [],
   "source": []
  },
  {
   "cell_type": "code",
   "execution_count": null,
   "metadata": {},
   "outputs": [],
   "source": []
  },
  {
   "cell_type": "code",
   "execution_count": null,
   "metadata": {},
   "outputs": [],
   "source": []
  },
  {
   "cell_type": "code",
   "execution_count": null,
   "metadata": {},
   "outputs": [],
   "source": []
  },
  {
   "cell_type": "code",
   "execution_count": null,
   "metadata": {},
   "outputs": [],
   "source": []
  }
 ],
 "metadata": {
  "kernelspec": {
   "display_name": "Python 3",
   "language": "python",
   "name": "python3"
  },
  "language_info": {
   "codemirror_mode": {
    "name": "ipython",
    "version": 3
   },
   "file_extension": ".py",
   "mimetype": "text/x-python",
   "name": "python",
   "nbconvert_exporter": "python",
   "pygments_lexer": "ipython3",
   "version": "3.6.6"
  }
 },
 "nbformat": 4,
 "nbformat_minor": 2
}
