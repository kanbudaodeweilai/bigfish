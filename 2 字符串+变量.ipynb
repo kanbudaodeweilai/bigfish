{
 "cells": [
  {
   "cell_type": "markdown",
   "metadata": {},
   "source": [
    "# 字符串\n",
    "- 转义字符\n",
    "- 格式化\n",
    "- 内建立函数\n",
    "\n",
    "## 转义字符\n",
    "- 用一个特殊的方法表示出一系列不方便写出的内容，比如回车键，换行键，退格键\n",
    "- 借助\\字符，一旦字符串中出现反斜杠，则反斜杠后面一个或几个字符表示已经不是原来的意思了，进行了转义\n",
    "- 转义字符\\ 可以被他本身转移\n",
    "- 不同系统下对换行操作有不同的表示\n",
    "     -  Windows： \\n\n",
    "     -  Linux  ： \\r\\n"
   ]
  },
  {
   "cell_type": "code",
   "execution_count": 2,
   "metadata": {},
   "outputs": [
    {
     "name": "stdout",
     "output_type": "stream",
     "text": [
      "i am cool\n",
      "Let's go\n",
      "Let's go\n"
     ]
    }
   ],
   "source": [
    "s='i am cool'\n",
    "print(s)\n",
    "ss=\"Let's go\"\n",
    "print(ss)\n",
    "# sss='Let's gou' 这就是错无的  所以Let‘s中额单引号需要转义\n",
    "sss='Let\\'s go'\n",
    "print(sss)"
   ]
  },
  {
   "cell_type": "markdown",
   "metadata": {},
   "source": [
    "## 字符串的格式化\n",
    "- 把字符串按照一定的格式打印或者填充\n",
    "- 格式化的两种方法\n",
    "     - 利用百分号： %\n",
    "     - 利用format函数"
   ]
  },
  {
   "cell_type": "code",
   "execution_count": 3,
   "metadata": {},
   "outputs": [],
   "source": [
    "s=\"xxx  您好，欢迎来到青岛科技大学\""
   ]
  },
  {
   "cell_type": "markdown",
   "metadata": {},
   "source": [
    "### 利用%格式化\n",
    "- 在字符串中，利用%表示一个特殊的含义，表示对字符进行格式化\n",
    "- %d：此处应放入一个整数\n",
    "- %s：此处应放入一个字符串"
   ]
  },
  {
   "cell_type": "code",
   "execution_count": 9,
   "metadata": {},
   "outputs": [
    {
     "name": "stdout",
     "output_type": "stream",
     "text": [
      "I love %s\n",
      "I love you\n"
     ]
    }
   ],
   "source": [
    "s=\"I love %s\"\n",
    "print(s)\n",
    "print(\"I love %s\"%\"you\")"
   ]
  },
  {
   "cell_type": "code",
   "execution_count": 4,
   "metadata": {},
   "outputs": [
    {
     "name": "stdout",
     "output_type": "stream",
     "text": [
      "i am %d years old\n",
      "i am 18 years old\n",
      "i am 帅哥,i am 18 years old\n"
     ]
    }
   ],
   "source": [
    "s=\"i am %d years old\"\n",
    "print(s)\n",
    "print(s%18)\n",
    "s=\"i am %s,i am %d years old\"#有两个格式化位\n",
    "                             #所以后面的输出必须有两个位子相对应，否则会报错\n",
    "print(s%('帅哥',18))"
   ]
  },
  {
   "cell_type": "markdown",
   "metadata": {},
   "source": [
    "### format函数格式化字符串\n",
    "- 直接利用format函数进行格式化\n",
    "- 推荐使用\n",
    "- 在使用上，以{}和：代替%号，后面用format带参数完成"
   ]
  },
  {
   "cell_type": "code",
   "execution_count": null,
   "metadata": {},
   "outputs": [],
   "source": [
    "s=\"she is {}\".format('bad girl')\n",
    "print(s)\n",
    "s=\"yes,she is {0},but I love {1},she is {0}\".format('bad girl','her')#对一个前边的%号  这里就不需要一一对应的去填位子，\n",
    "                                                                     #只要编号相同就可以合理省略\n",
    "print(s)"
   ]
  },
  {
   "cell_type": "code",
   "execution_count": null,
   "metadata": {},
   "outputs": [],
   "source": []
  },
  {
   "cell_type": "code",
   "execution_count": null,
   "metadata": {},
   "outputs": [],
   "source": []
  },
  {
   "cell_type": "markdown",
   "metadata": {},
   "source": [
    "## None\n",
    "- 表示什么都没有\n",
    "- 如果函数没有返回值，可以返回 None\n",
    "- 用来占位置\n",
    "- 用来解除变量绑定"
   ]
  },
  {
   "cell_type": "markdown",
   "metadata": {},
   "source": [
    "# 表达式\n",
    "- 有一个或者几个数字或者变量和运算符组合成的一行代码\n",
    "- 通常返回一个结果\n",
    "\n",
    "# 运算符\n",
    "- 由一个以上的值经过变化得到新的值额过程叫做运算\n",
    "- 运算符的分类\n",
    "     - 算数的运算符\n",
    "     - 比较或者关系运算符\n",
    "     - 赋值运算符\n",
    "     - 逻辑运算符\n",
    "     - 位运算\n",
    "     - 成员运算\n",
    "     - 身份运算\n",
    "- Python没有自增自减运算\n"
   ]
  },
  {
   "cell_type": "code",
   "execution_count": 16,
   "metadata": {},
   "outputs": [
    {
     "name": "stdout",
     "output_type": "stream",
     "text": [
      "2.25\n",
      "1\n",
      "2\n",
      "27\n"
     ]
    }
   ],
   "source": [
    "a=9/4\n",
    "print(a)\n",
    "a=9%4#取余运算\n",
    "print(a)\n",
    "a=9//4#取商运算\n",
    "print(a)\n",
    "a=3**3#幂运算\n",
    "print(a)\n"
   ]
  },
  {
   "cell_type": "markdown",
   "metadata": {},
   "source": [
    "## 比较运算符\n",
    "- 对两个变量或者值进行比较的运算符\n",
    "- 比较的结果是布尔值，True/False\n"
   ]
  },
  {
   "cell_type": "code",
   "execution_count": null,
   "metadata": {},
   "outputs": [],
   "source": [
    "# ==等于号 ，!= 不等于 ，>= , <= , < , >\n",
    "a=3**4\n",
    "#下面的语句执行顺序\n",
    "#1.计算a==88\n",
    "#2.把结果放入b\n",
    "b=a==88\n",
    "print(b)"
   ]
  },
  {
   "cell_type": "markdown",
   "metadata": {},
   "source": [
    "## 赋值运算符\n"
   ]
  },
  {
   "cell_type": "code",
   "execution_count": 21,
   "metadata": {},
   "outputs": [
    {
     "name": "stdout",
     "output_type": "stream",
     "text": [
      "0\n",
      "7\n",
      "7\n"
     ]
    }
   ],
   "source": [
    "# =,赋值运算符\n",
    "a=0\n",
    "print(a)\n",
    "c=a=7\n",
    "print(a)\n",
    "#+=是缩写\n",
    "a=0\n",
    "a+=7 #a=a+7\n",
    "print(a)"
   ]
  },
  {
   "cell_type": "markdown",
   "metadata": {},
   "source": [
    "## 逻辑运算符\n",
    " - and 逻辑与\n",
    " - or 逻辑或\n",
    " - nor 逻辑非\n",
    " - 运算规则\n",
    "     - and看做乘法 ，or看做加法\n",
    "     - True看做1  ， False看做0"
   ]
  },
  {
   "cell_type": "markdown",
   "metadata": {},
   "source": [
    "## 成员运算\n",
    "- in 或者 not in"
   ]
  },
  {
   "cell_type": "code",
   "execution_count": 24,
   "metadata": {},
   "outputs": [
    {
     "name": "stdout",
     "output_type": "stream",
     "text": [
      "False\n",
      "True\n"
     ]
    }
   ],
   "source": [
    "l=[1,2,3,4,5,6]\n",
    "a=7\n",
    "b=a in l\n",
    "print(b)\n",
    "print(a not in l)"
   ]
  },
  {
   "cell_type": "markdown",
   "metadata": {},
   "source": [
    "## 身份运算\n",
    "- is ：用来检测两个变量是不是一个变量\n",
    "     - var1 is var2\n",
    "- is not ：两个变量不是一个变量"
   ]
  },
  {
   "cell_type": "code",
   "execution_count": 28,
   "metadata": {},
   "outputs": [
    {
     "name": "stdout",
     "output_type": "stream",
     "text": [
      "True\n",
      "False\n"
     ]
    }
   ],
   "source": [
    "a=9\n",
    "b=9\n",
    "print(a is b)\n",
    "a='I love English'\n",
    "b='I love English'#待查询\n",
    "print(a is b)"
   ]
  }
 ],
 "metadata": {
  "kernelspec": {
   "display_name": "Python 3",
   "language": "python",
   "name": "python3"
  },
  "language_info": {
   "codemirror_mode": {
    "name": "ipython",
    "version": 3
   },
   "file_extension": ".py",
   "mimetype": "text/x-python",
   "name": "python",
   "nbconvert_exporter": "python",
   "pygments_lexer": "ipython3",
   "version": "3.6.5"
  }
 },
 "nbformat": 4,
 "nbformat_minor": 2
}
