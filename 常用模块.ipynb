{
 "cells": [
  {
   "cell_type": "markdown",
   "metadata": {},
   "source": [
    "# 常用模块\n",
    "- calendar\n",
    "- time\n",
    "- datetime\n",
    "- os\n",
    "- shutil\n",
    "- zip\n",
    "- math\n",
    "- string\n",
    "- 上述所有的模块都需要先导入，string是个特例"
   ]
  },
  {
   "cell_type": "code",
   "execution_count": 4,
   "metadata": {},
   "outputs": [
    {
     "name": "stdout",
     "output_type": "stream",
     "text": [
      "                              2018\n",
      "\n",
      "      January               February               March\n",
      "Mo Tu We Th Fr Sa Su  Mo Tu We Th Fr Sa Su  Mo Tu We Th Fr Sa Su\n",
      " 1  2  3  4  5  6  7            1  2  3  4            1  2  3  4\n",
      " 8  9 10 11 12 13 14   5  6  7  8  9 10 11   5  6  7  8  9 10 11\n",
      "15 16 17 18 19 20 21  12 13 14 15 16 17 18  12 13 14 15 16 17 18\n",
      "22 23 24 25 26 27 28  19 20 21 22 23 24 25  19 20 21 22 23 24 25\n",
      "29 30 31              26 27 28              26 27 28 29 30 31\n",
      "\n",
      "       April                  May                   June\n",
      "Mo Tu We Th Fr Sa Su  Mo Tu We Th Fr Sa Su  Mo Tu We Th Fr Sa Su\n",
      "                   1      1  2  3  4  5  6               1  2  3\n",
      " 2  3  4  5  6  7  8   7  8  9 10 11 12 13   4  5  6  7  8  9 10\n",
      " 9 10 11 12 13 14 15  14 15 16 17 18 19 20  11 12 13 14 15 16 17\n",
      "16 17 18 19 20 21 22  21 22 23 24 25 26 27  18 19 20 21 22 23 24\n",
      "23 24 25 26 27 28 29  28 29 30 31           25 26 27 28 29 30\n",
      "30\n",
      "\n",
      "        July                 August              September\n",
      "Mo Tu We Th Fr Sa Su  Mo Tu We Th Fr Sa Su  Mo Tu We Th Fr Sa Su\n",
      "                   1         1  2  3  4  5                  1  2\n",
      " 2  3  4  5  6  7  8   6  7  8  9 10 11 12   3  4  5  6  7  8  9\n",
      " 9 10 11 12 13 14 15  13 14 15 16 17 18 19  10 11 12 13 14 15 16\n",
      "16 17 18 19 20 21 22  20 21 22 23 24 25 26  17 18 19 20 21 22 23\n",
      "23 24 25 26 27 28 29  27 28 29 30 31        24 25 26 27 28 29 30\n",
      "30 31\n",
      "\n",
      "      October               November              December\n",
      "Mo Tu We Th Fr Sa Su  Mo Tu We Th Fr Sa Su  Mo Tu We Th Fr Sa Su\n",
      " 1  2  3  4  5  6  7            1  2  3  4                  1  2\n",
      " 8  9 10 11 12 13 14   5  6  7  8  9 10 11   3  4  5  6  7  8  9\n",
      "15 16 17 18 19 20 21  12 13 14 15 16 17 18  10 11 12 13 14 15 16\n",
      "22 23 24 25 26 27 28  19 20 21 22 23 24 25  17 18 19 20 21 22 23\n",
      "29 30 31              26 27 28 29 30        24 25 26 27 28 29 30\n",
      "                                            31\n",
      "\n"
     ]
    }
   ],
   "source": [
    "# 使用需要先导入\n",
    "import calendar\n",
    "#获取一年的日历字符串\n",
    "#参数\n",
    "# w = 每个日期之间的间隔字符数\n",
    "# l = 每周所占用的行数\n",
    "# c = 每个月之间的间隔字符数\n",
    "cal = calendar.calendar(2018,w=1,l=1,c=1)\n",
    "print(cal)"
   ]
  },
  {
   "cell_type": "code",
   "execution_count": 5,
   "metadata": {},
   "outputs": [
    {
     "data": {
      "text/plain": [
       "True"
      ]
     },
     "execution_count": 5,
     "metadata": {},
     "output_type": "execute_result"
    }
   ],
   "source": [
    "# isleap:判断某一年是否是闰年\n",
    "calendar.isleap(2000)"
   ]
  },
  {
   "cell_type": "code",
   "execution_count": 9,
   "metadata": {},
   "outputs": [
    {
     "data": {
      "text/plain": [
       "4"
      ]
     },
     "execution_count": 9,
     "metadata": {},
     "output_type": "execute_result"
    }
   ],
   "source": [
    "# leapdays:获取指定年份之间的闰年的个数\n",
    "calendar.leapdays(2001,2018)"
   ]
  },
  {
   "cell_type": "code",
   "execution_count": 10,
   "metadata": {},
   "outputs": [
    {
     "name": "stdout",
     "output_type": "stream",
     "text": [
      "     March 2018\n",
      "Mo Tu We Th Fr Sa Su\n",
      "          1  2  3  4\n",
      " 5  6  7  8  9 10 11\n",
      "12 13 14 15 16 17 18\n",
      "19 20 21 22 23 24 25\n",
      "26 27 28 29 30 31\n",
      "\n"
     ]
    }
   ],
   "source": [
    "# month() :获取某个月的日历字符串\n",
    "#格式：calendar.month(年，月)\n",
    "#回值：月日历的字符串\n",
    "m3=calendar.month(2018,3)\n",
    "print(m3)"
   ]
  },
  {
   "cell_type": "markdown",
   "metadata": {},
   "source": [
    "# time 模块\n",
    "\n",
    "## 时间戳\n",
    "    - 一个时间表示，根据不同的语言，可以是整数或者浮点数\n",
    "    - 是从1970年1月1日0时0分0秒到现在经历的秒数\n",
    "    - 如果表示的时间是1970年以前，可能会出现异常\n",
    "    - 32位操作系统能够支持到2038年\n",
    "    \n",
    "## UTF时间\n",
    "    - UTF又称为世界协调时间，以英国的格林尼治天文所在的地区的时间作为参考时间，也叫作世界标准时间\n",
    "    -中国时间是UTC+8 东八区\n",
    "    \n",
    "## 夏令时\n",
    "    -夏令时就是在夏天的时候讲时间调快1个小时，本意是督促大家早睡早起节省蜡烛，每天变成25小数，本质还是24小时\n",
    "    \n",
    "## 时间元组\n",
    "    - 一个包含实践内容的普通元组"
   ]
  },
  {
   "cell_type": "code",
   "execution_count": 2,
   "metadata": {},
   "outputs": [
    {
     "name": "stdout",
     "output_type": "stream",
     "text": [
      "0\n",
      "1\n",
      "2\n",
      "3\n",
      "4\n",
      "5\n",
      "6\n",
      "7\n",
      "8\n",
      "9\n"
     ]
    }
   ],
   "source": [
    "import time\n",
    "# sleep：是程序进入睡眠\n",
    "for i in range(10):\n",
    "    print(i)\n",
    "    time.sleep(2.5)"
   ]
  },
  {
   "cell_type": "code",
   "execution_count": 17,
   "metadata": {},
   "outputs": [
    {
     "name": "stdout",
     "output_type": "stream",
     "text": [
      "Mon Oct 29 19:37:32 2018\n"
     ]
    }
   ],
   "source": [
    "# ctime:获取字符串化的当前时间\n",
    "t = time.ctime()\n",
    "\n",
    "print(t)"
   ]
  },
  {
   "cell_type": "code",
   "execution_count": 22,
   "metadata": {},
   "outputs": [
    {
     "name": "stdout",
     "output_type": "stream",
     "text": [
      "0.0034960000000001656\n"
     ]
    }
   ],
   "source": [
    "import time\n",
    "def p():\n",
    "    time.sleep(2.5)\n",
    "t0 = time.clock()\n",
    "time.sleep(3)\n",
    "t1 = time.clock()\n",
    "\n",
    "print(t1-t0)"
   ]
  },
  {
   "cell_type": "code",
   "execution_count": 26,
   "metadata": {},
   "outputs": [
    {
     "name": "stdout",
     "output_type": "stream",
     "text": [
      "2018年10月29日 19：54\n"
     ]
    }
   ],
   "source": [
    "'''\n",
    "python中时间日期格式化符号：\n",
    "\n",
    "%y 两位数的年份表示（00-99）\n",
    "%Y 四位数的年份表示（000-9999）\n",
    "%m 月份（01-12）\n",
    "%d 月内中的一天（0-31）\n",
    "%H 24小时制小时数（0-23）\n",
    "%I 12小时制小时数（01-12）\n",
    "%M 分钟数（00=59）\n",
    "%S 秒（00-59）\n",
    "%a 本地简化星期名称\n",
    "%A 本地完整星期名称\n",
    "%b 本地简化的月份名称\n",
    "%B 本地完整的月份名称\n",
    "%c 本地相应的日期表示和时间表示\n",
    "%j 年内的一天（001-366）\n",
    "%p 本地A.M.或P.M.的等价符\n",
    "%U 一年中的星期数（00-53）星期天为星期的开始\n",
    "%w 星期（0-6），星期天为星期的开始\n",
    "%W 一年中的星期数（00-53）星期一为星期的开始\n",
    "%x 本地相应的日期表示\n",
    "%X 本地相应的时间表示\n",
    "%Z 当前时区的名称\n",
    "%% %号本身\n",
    "'''\n",
    "\n",
    "\n",
    "import time\n",
    "t = time.localtime()\n",
    "ft = time.strftime('%Y年%m月%d日 %H：%M',t)\n",
    "print(ft)"
   ]
  },
  {
   "cell_type": "markdown",
   "metadata": {},
   "source": [
    "# detetime 模块\n",
    "- datetime提供日期和时间的运算和表示"
   ]
  },
  {
   "cell_type": "code",
   "execution_count": 31,
   "metadata": {},
   "outputs": [
    {
     "name": "stdout",
     "output_type": "stream",
     "text": [
      "2018-10-29\n",
      "2018\n",
      "10\n",
      "29\n"
     ]
    }
   ],
   "source": [
    "#datetime常见属性\n",
    "#datetime.date：一个理想化的日期，提供year，month，day属性\n",
    "import datetime\n",
    "dt = datetime.date(2018,10,29)\n",
    "print(dt)\n",
    "print(dt.year)\n",
    "print(dt.month)\n",
    "print(dt.day)\n",
    "# datetime.datetime：提供一个理想化的时间。属性有hour，minute，sec，microsec等属性\n",
    "# datetime.datetime：提供日期跟时间的组合\n",
    "# datetime.timedelta：提供一个时间差，时间长度\n"
   ]
  },
  {
   "cell_type": "code",
   "execution_count": 4,
   "metadata": {},
   "outputs": [
    {
     "name": "stdout",
     "output_type": "stream",
     "text": [
      "2018-10-30 20:19:44.912724\n",
      "2018-10-30 20:19:44.913075\n",
      "2018-10-30 20:19:44.913218\n"
     ]
    }
   ],
   "source": [
    "# datetime.datetime\n",
    "import time\n",
    "from datetime import datetime\n",
    "# 常用类方法\n",
    "#today：\n",
    "#now：\n",
    "#utcnow：\n",
    "#fromtimestamp：从时间戳中返回本地时间\n",
    "dt = datetime(2018,10,29)\n",
    "print(dt.today())\n",
    "print(dt.now())\n",
    "print(dt.fromtimestamp(time.time()))"
   ]
  },
  {
   "cell_type": "code",
   "execution_count": 8,
   "metadata": {},
   "outputs": [
    {
     "name": "stdout",
     "output_type": "stream",
     "text": [
      "2018-10-30 20:23:44\n",
      "2018-10-30 21:23:44\n"
     ]
    }
   ],
   "source": [
    "# datetime.timedelta\n",
    "# 表示一个时间间隔\n",
    "from datetime import datetime,timedelta\n",
    "t1 = datetime.now()\n",
    "print(t1.strftime(\"%Y-%m-%d %H:%M:%S\"))\n",
    "#td 表示以小时的时间长度\n",
    "td = timedelta(hours = 1)\n",
    "print((t1 + td).strftime(\"%Y-%m-%d %H:%M:%S\"))"
   ]
  },
  {
   "cell_type": "code",
   "execution_count": 9,
   "metadata": {},
   "outputs": [
    {
     "name": "stdout",
     "output_type": "stream",
     "text": [
      "2.3027727603912354\n"
     ]
    }
   ],
   "source": [
    "# timeit :时间测量工具\n",
    "# 测量程序运行时间间隔\n",
    "def p():\n",
    "    time.sleep(2.3)\n",
    "t1 = time.time()\n",
    "p()\n",
    "print(time.time()-t1)"
   ]
  },
  {
   "cell_type": "code",
   "execution_count": 12,
   "metadata": {},
   "outputs": [
    {
     "name": "stdout",
     "output_type": "stream",
     "text": [
      "1540902404.5816932\n"
     ]
    }
   ],
   "source": [
    "t1 = time.time()\n",
    "print(t1)"
   ]
  },
  {
   "cell_type": "code",
   "execution_count": 17,
   "metadata": {},
   "outputs": [
    {
     "name": "stdout",
     "output_type": "stream",
     "text": [
      "2.9117171540001436\n",
      "5.630940787000327\n"
     ]
    }
   ],
   "source": [
    "import timeit\n",
    "# 生成列表两种方法的比较\n",
    "# 如果单纯比较生成一个列表的时间，可能很难实现\n",
    "c = '''\n",
    "sum = []\n",
    "for i in range(1000):\n",
    "    sum.append(i)\n",
    "'''\n",
    "# 利用timeit调用代码，执行100000次，查看运行时间\n",
    "t1 = timeit.timeit(stmt = '[i for i in range(1000)]',number = 100000)\n",
    "#测量代码c执行100000次的运行结果\n",
    "t2 = timeit.timeit(stmt=c,number= 100000)\n",
    "print(t1)\n",
    "print(t2)"
   ]
  },
  {
   "cell_type": "markdown",
   "metadata": {},
   "source": [
    "# os- 操作系统相关\n",
    "- 跟操作系统相关，主要是文件夹操作\n",
    "- 与系统相关的操作，主要包含在三个模块里\n",
    "    - os ：操作系统目录相关\n",
    "    - os.path ：系统路径相关\n",
    "    - shutil : 高级文件操作，目录树的操作，文件赋值，删除，移动\n",
    "- 路径：\n",
    "    - 绝对路径：总是从根目录上开始\n",
    "    - 相对路径： 基本以当前环境为开始的一个相对的地方\n",
    "    "
   ]
  },
  {
   "cell_type": "markdown",
   "metadata": {},
   "source": [
    "# os 模块\n"
   ]
  },
  {
   "cell_type": "code",
   "execution_count": 23,
   "metadata": {},
   "outputs": [
    {
     "name": "stdout",
     "output_type": "stream",
     "text": [
      "/home/ztx\n"
     ]
    }
   ],
   "source": [
    "#getcwd（） 获取当前工作目录\n",
    "#格式 ： os.getcwd（）\n",
    "#返回值： 当前工作目录的字符串\n",
    "#当前工作目录就是程序在运行文件相关操作，默认查找文件的目录\n",
    "import os\n",
    "mydir = os.getcwd()\n",
    "print(mydir)"
   ]
  },
  {
   "cell_type": "code",
   "execution_count": 27,
   "metadata": {},
   "outputs": [
    {
     "name": "stdout",
     "output_type": "stream",
     "text": [
      "/home/ztx\n"
     ]
    }
   ],
   "source": [
    "# chdir() ：改变当前的工作目录\n",
    "# change directory\n",
    "# 格式： os.chdir（路径）\n",
    "# 返回值：无\n",
    "os.chdir('/home/ztx')\n",
    "mydir = os.getcwd()\n",
    "print(mydir)"
   ]
  },
  {
   "cell_type": "code",
   "execution_count": 28,
   "metadata": {},
   "outputs": [
    {
     "name": "stdout",
     "output_type": "stream",
     "text": [
      "['.gnupg', '公共的', 'shadowsocksr', '.dbus', '常用模块.ipynb', '3 程序结构-分支循环.ipynb', '.bash_history', '图片', '异常处理.ipynb', 'README.md', '.~lock.id_rsa.pub#', '文档', '.pki', '.jupyter', '.sogouinput', '01.ipynb', '.ICEauthority', '.local', '.bash_logout', 'Firefox_wallpaper.png', '5 函数作用域和列表.ipynb', '音乐', '视频', '.cache', '.ssh', '2 字符串+变量.ipynb', '7.内建函数 listdictest.ipynb', '123', '类-成员描述符.ipynb', '.profile', '桌面', '下载', '.xinputrc', 'examples.desktop', 'id_rsa.pub', '.ipython', '.presage', '6 内建函数listdictset.ipynb', '.pam_environment', '4 while-函数.ipynb', '.ipynb_checkpoints', '.rpmdb', 'id_rsa', 'opp基础.ipynb', '.bashrc', '模板', '.sudo_as_admin_successful', '.config', '.mozilla']\n"
     ]
    }
   ],
   "source": [
    "#listdir(): 获取一个目录种所有子目录和文件的名称列表\n",
    "# 格式： os.listdir（路径）\n",
    "# 返回值: 所有子目录和文件名称的列表\n",
    "ld = os.listdir()\n",
    "print(ld)"
   ]
  },
  {
   "cell_type": "code",
   "execution_count": null,
   "metadata": {},
   "outputs": [],
   "source": []
  },
  {
   "cell_type": "code",
   "execution_count": null,
   "metadata": {},
   "outputs": [],
   "source": []
  },
  {
   "cell_type": "code",
   "execution_count": null,
   "metadata": {},
   "outputs": [],
   "source": []
  },
  {
   "cell_type": "code",
   "execution_count": null,
   "metadata": {},
   "outputs": [],
   "source": []
  },
  {
   "cell_type": "code",
   "execution_count": null,
   "metadata": {},
   "outputs": [],
   "source": []
  },
  {
   "cell_type": "code",
   "execution_count": null,
   "metadata": {},
   "outputs": [],
   "source": []
  },
  {
   "cell_type": "code",
   "execution_count": null,
   "metadata": {},
   "outputs": [],
   "source": []
  },
  {
   "cell_type": "code",
   "execution_count": null,
   "metadata": {},
   "outputs": [],
   "source": []
  },
  {
   "cell_type": "code",
   "execution_count": null,
   "metadata": {},
   "outputs": [],
   "source": []
  },
  {
   "cell_type": "code",
   "execution_count": null,
   "metadata": {},
   "outputs": [],
   "source": []
  },
  {
   "cell_type": "code",
   "execution_count": null,
   "metadata": {},
   "outputs": [],
   "source": []
  },
  {
   "cell_type": "code",
   "execution_count": null,
   "metadata": {},
   "outputs": [],
   "source": []
  },
  {
   "cell_type": "code",
   "execution_count": null,
   "metadata": {},
   "outputs": [],
   "source": []
  },
  {
   "cell_type": "code",
   "execution_count": null,
   "metadata": {},
   "outputs": [],
   "source": []
  }
 ],
 "metadata": {
  "kernelspec": {
   "display_name": "Python 3",
   "language": "python",
   "name": "python3"
  },
  "language_info": {
   "codemirror_mode": {
    "name": "ipython",
    "version": 3
   },
   "file_extension": ".py",
   "mimetype": "text/x-python",
   "name": "python",
   "nbconvert_exporter": "python",
   "pygments_lexer": "ipython3",
   "version": "3.6.6"
  }
 },
 "nbformat": 4,
 "nbformat_minor": 2
}
