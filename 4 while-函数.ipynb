{
 "cells": [
  {
   "cell_type": "markdown",
   "metadata": {},
   "source": [
    "# while循环\n",
    "- 一个循环语句\n",
    "- 表示当某条件成立的时候，就循环\n",
    "- 不找到具体循环次数，但能确定循环成立的条件时用while循环\n",
    "- while语法：\n",
    "       \n",
    "         while 条件表达式：\n",
    "                语句块\n",
    "         #另外一种表达方式\n",
    "         while 条件表达式：\n",
    "                语句块1\n",
    "         else：\n",
    "                语句块2"
   ]
  },
  {
   "cell_type": "code",
   "execution_count": 1,
   "metadata": {},
   "outputs": [
    {
     "name": "stdout",
     "output_type": "stream",
     "text": [
      "第1年拿了106700.0块钱\n",
      "第2年拿了113848.9块钱\n",
      "第3年拿了121476.77629999998块钱\n",
      "第4年拿了129615.72031209998块钱\n",
      "第5年拿了138299.97357301068块钱\n",
      "第6年拿了147566.07180240238块钱\n",
      "第7年拿了157452.99861316333块钱\n",
      "第8年拿了168002.34952024528块钱\n",
      "第9年拿了179258.5069381017块钱\n",
      "第10年拿了191268.8269029545块钱\n",
      "第11年拿了204083.83830545243块钱\n"
     ]
    }
   ],
   "source": [
    "# 如果说年利率是6.7%，本利是每年翻滚，这多少年后会翻倍\n",
    "benqian=100000\n",
    "year=0\n",
    "while benqian<200000:\n",
    "    benqian=benqian*(1+0.067)\n",
    "    year+=1\n",
    "    print('第{0}年拿了{1}块钱'.format(year,benqian))"
   ]
  },
  {
   "cell_type": "code",
   "execution_count": 2,
   "metadata": {},
   "outputs": [
    {
     "name": "stdout",
     "output_type": "stream",
     "text": [
      "第1年拿了106700.0块钱\n",
      "第2年拿了113848.9块钱\n",
      "第3年拿了121476.77629999998块钱\n",
      "第4年拿了129615.72031209998块钱\n",
      "第5年拿了138299.97357301068块钱\n",
      "第6年拿了147566.07180240238块钱\n",
      "第7年拿了157452.99861316333块钱\n",
      "第8年拿了168002.34952024528块钱\n",
      "第9年拿了179258.5069381017块钱\n",
      "第10年拿了191268.8269029545块钱\n",
      "第11年拿了204083.83830545243块钱\n",
      "mmp,终于等到了这一天\n"
     ]
    }
   ],
   "source": [
    "# 如果说年利率是6.7%，本利是每年翻滚，这多少年后会翻倍\n",
    "# 如果拿到的钱翻倍，这print庆祝一下\n",
    "benqian=100000\n",
    "year=0\n",
    "while benqian<200000:\n",
    "    benqian=benqian*(1+0.067)\n",
    "    year+=1\n",
    "    print('第{0}年拿了{1}块钱'.format(year,benqian))\n",
    "else:\n",
    "    print('mmp,终于等到了这一天')"
   ]
  },
  {
   "cell_type": "markdown",
   "metadata": {},
   "source": [
    "# 函数\n",
    "- 代码的一种组织形式\n",
    "- 一个函数-一般完成一项特定的功能\n",
    "- 函数使用：\n",
    "     - 函数需要先定义\n",
    "     - 使用函数，俗称调用\n",
    "- 使用方法：\n",
    "     - 1.def关键字，后跟一个空格！\n",
    "     - 2.函数名，自己定义，起名需要遵循便令名规则，约定俗成\n",
    "     - 3.后面的括号和冒号不能省略！，括号能可以有参数\n",
    "     - 4.函数内所有代码缩进！"
   ]
  },
  {
   "cell_type": "code",
   "execution_count": 5,
   "metadata": {},
   "outputs": [
    {
     "name": "stdout",
     "output_type": "stream",
     "text": [
      "我是一个函数\n",
      "我特别的牛批\n",
      "我什么都能干\n",
      "没了....\n"
     ]
    }
   ],
   "source": [
    "# 定义一个函数\n",
    "\n",
    "\n",
    "def func():\n",
    "    print('我是一个函数')\n",
    "    print('我特别的牛批')  ## 缩进不能省略！缩进不能省略！ 缩进不能省略！！！\n",
    "    print('我什么都能干')\n",
    "    print('没了....')\n",
    "# 只定义的话不会执行\n",
    "\n",
    "#函数的调用\n",
    "#直接函数名后跟括号\n",
    "func()"
   ]
  },
  {
   "cell_type": "markdown",
   "metadata": {},
   "source": [
    "### 函数的参数和返回值\n",
    "- 参数：负责给函数传递一些必要的数据或者信息\n",
    "     - 形参（形式参数）：在定义函数的时候用法哦的参数没有实际意义，只是一个占位的符号。\n",
    "     - 实参（实际参数）：在调用函数的时候输入的值\n",
    "- 返回值：函数的执行结果\n",
    "     - 使用return关键字\n",
    "     - 如果没有return关键字，则默认返回None\n",
    "     - 函数一旦执行return语句，则无条件返回\n",
    "     - 推荐写法，无论有没有返回自，最后都要以return结束"
   ]
  },
  {
   "cell_type": "code",
   "execution_count": 7,
   "metadata": {},
   "outputs": [
    {
     "name": "stdout",
     "output_type": "stream",
     "text": [
      "张飞,你肿么了\n",
      "老哥，你别走啊，诶诶诶。。。\n"
     ]
    }
   ],
   "source": [
    "#参数的定义\n",
    "#参数person只是一个符号，代表的是调用的时候的某一个数据\n",
    "# 调用的时候，会用所有的p的值代替函数种的所有person\n",
    "def hello(person):\n",
    "    print('{0},你肿么了'.format(person))\n",
    "    print('老哥，你别走啊，诶诶诶。。。')\n",
    "p='张飞'\n",
    "hello(p)"
   ]
  },
  {
   "cell_type": "code",
   "execution_count": 8,
   "metadata": {},
   "outputs": [
    {
     "name": "stdout",
     "output_type": "stream",
     "text": [
      "张飞,你肿么了\n",
      "老哥，你别走啊，诶诶诶。。。\n"
     ]
    },
    {
     "data": {
      "text/plain": [
       "'我已经跟张飞打招呼了，但是张飞不理我'"
      ]
     },
     "execution_count": 8,
     "metadata": {},
     "output_type": "execute_result"
    }
   ],
   "source": [
    "# return语句的基本使用\n",
    "# 函数打完招呼后返回一句话\n",
    "def hello(person):\n",
    "    print('{0},你肿么了'.format(person))\n",
    "    print('老哥，你别走啊，诶诶诶。。。')\n",
    "    \n",
    "    return'我已经跟{0}打招呼了，但是{1}不理我'.format(person,person)\n",
    "p='张飞'\n",
    "hello(p)"
   ]
  },
  {
   "cell_type": "code",
   "execution_count": 1,
   "metadata": {},
   "outputs": [
    {
     "name": "stdout",
     "output_type": "stream",
     "text": [
      "张飞,你肿么了\n"
     ]
    },
    {
     "data": {
      "text/plain": [
       "'哈哈我提前结束了！'"
      ]
     },
     "execution_count": 1,
     "metadata": {},
     "output_type": "execute_result"
    }
   ],
   "source": [
    "#return案例2\n",
    "def hello(person):\n",
    "    print('{0},你肿么了'.format(person))\n",
    "    return('哈哈我提前结束了！')\n",
    "    print('老哥，你别走啊，诶诶诶。。。')\n",
    "    \n",
    "    return'我已经跟{0}打招呼了，但是{1}不理我'.format(person,person)\n",
    "p='张飞'\n",
    "hello(p)"
   ]
  },
  {
   "cell_type": "code",
   "execution_count": 10,
   "metadata": {},
   "outputs": [
    {
     "name": "stdout",
     "output_type": "stream",
     "text": [
      "1 ..................\n",
      "2 4 ..................\n",
      "3 6 9 ..................\n",
      "4 8 12 16 ..................\n",
      "5 10 15 20 25 ..................\n",
      "6 12 18 24 30 36 ..................\n",
      "7 14 21 28 35 42 49 ..................\n",
      "8 16 24 32 40 48 56 64 ..................\n",
      "9 18 27 36 45 54 63 72 81 ..................\n"
     ]
    }
   ],
   "source": [
    "#九九乘法表\n",
    "\n",
    "for row in range(1,10):\n",
    "    for col in range(1,row+1):\n",
    "    \n",
    "            #print函数默认打印结束后换行\n",
    "            print(row*col,end=' ')\n",
    "    print('..................')\n",
    "       \n",
    "            \n",
    "            "
   ]
  },
  {
   "cell_type": "code",
   "execution_count": 21,
   "metadata": {},
   "outputs": [
    {
     "name": "stdout",
     "output_type": "stream",
     "text": [
      "9 18 27 36 45 54 63 72 81  \n"
     ]
    }
   ],
   "source": [
    "#定义一个函数，打印一行九九乘法表\n",
    "\n",
    "def printline(row):\n",
    "    for col in range(1,row+1):\n",
    "    \n",
    "            #print函数默认打印结束后换行\n",
    "            print(row*col,end=' ')\n",
    "    print(' ')\n",
    "# for row in range(1,10):\n",
    "row=9\n",
    "printline(row)\n",
    "       \n"
   ]
  },
  {
   "cell_type": "markdown",
   "metadata": {},
   "source": [
    "## 参数详解\n",
    "- 参数分类\n",
    "    - 普通参数\n",
    "    - 默认参数\n",
    "    - 关键字参数\n",
    "    - 搜集参数\n",
    "- 普通参数\n",
    "    - c参见上例\n",
    "    - 定义的时候直接定义比那两名\n",
    "    - 调用的时候直接吧变量或者值放入指定位子\n",
    "    \n",
    "              def 函数名（参数1，参数2.......）\n",
    "                  函数体\n",
    "              #调用\n",
    "              函数名（value1，value2.....）\n",
    "              \n",
    "              #调用的时候，具体值参考的位子，按位子赋值\n",
    "\n",
    "- 默认参数\n",
    "    - 形参带有默认值\n",
    "    - 调用的时候，如果没有对应形参赋值，则使用默认值\n",
    "             \n",
    "             def func name(p1=v1,p2=v2....):\n",
    "                 func_block\n",
    "             #调用1\n",
    "             func_name()\n",
    "             \n",
    "             #调用2\n",
    "             value1=100\n",
    "             value2=200\n",
    "             runc_name(value1,value2)"
   ]
  },
  {
   "cell_type": "code",
   "execution_count": 31,
   "metadata": {},
   "outputs": [
    {
     "name": "stdout",
     "output_type": "stream",
     "text": [
      "jingingis21,and he is good student\n",
      "liangliangis21,and she is a good sudent\n"
     ]
    }
   ],
   "source": [
    "#默认参数事例\n",
    "#报名函数，需要知道学生的性别\n",
    "#学习Python的学生基本都是男生，所以，报名的时候如果没有特别指定，就默认为男生\n",
    "def reg(name,age,gender='male'):\n",
    "    if gender=='male':\n",
    "        print('{0}is{1},and he is good student'.format(name,age))\n",
    "    else:\n",
    "        print('{0}is{1},and she is a good sudent'.format(name,age))\n",
    "reg('jinging',21)\n",
    "reg('liangliang',21,'female')"
   ]
  },
  {
   "cell_type": "markdown",
   "metadata": {},
   "source": [
    "#### 关键字参数\n",
    "- 语法\n",
    "       \n",
    "        def func(p1=v1,p2=v2........)\n",
    "            func_body\n",
    "        #调用函数：\n",
    "        func(p1=v1,p2=v2.....)\n",
    "- 比较麻烦，但也有好处：\n",
    "     - 不容易混淆，一般实参和形参只是按照位置一一对应，容易出错\n",
    "     - 使用关键字参数，可以不考虑参数位置"
   ]
  },
  {
   "cell_type": "code",
   "execution_count": 37,
   "metadata": {},
   "outputs": [
    {
     "name": "stdout",
     "output_type": "stream",
     "text": [
      "i am a student\n",
      "我叫静静，我今年18岁了，我住在我家\n",
      "i am a student\n",
      "我叫静静，我今年18岁了，我住在我家\n"
     ]
    }
   ],
   "source": [
    "#关键字参数案例\n",
    "def stu(name,age,addr):\n",
    "    print('i am a student')\n",
    "    print('我叫{0}，我今年{1}岁了，我住在{2}'.format(name,age,addr))\n",
    "n='静静'\n",
    "a=18\n",
    "addr='我家'\n",
    "stu(n ,a,addr)\n",
    "\n",
    "\n",
    "\n",
    "def stu_key(name='no name',age=0,addr='no addr'):\n",
    "    print('i am a student')\n",
    "    print('我叫{0}，我今年{1}岁了，我住在{2}'.format(name,age,addr))\n",
    "n='静静'\n",
    "a=18\n",
    "addr='我家'\n",
    "stu_key(age=a,name=n,addr=addr)  #位置调换后仍然正确，所以位置可以不意义对应"
   ]
  },
  {
   "cell_type": "markdown",
   "metadata": {},
   "source": [
    "## 搜集参数\n",
    "- 把没有位置，不能和定义时的参数位置相对应的参数，放入一个特定的数据结构\n",
    "- 语法\n",
    "              \n",
    "              def func(*args):\n",
    "                  func_body\n",
    "                  按照list使用方式访问args得到传入的参数\n",
    "              调用\n",
    "              func（p1，p2，p3.....）\n",
    "- 参数名args不是必须这么写，推荐，约定俗成的\n",
    "- 参数名args前需要*号\n",
    "- 搜集参数可以和其他参数并存"
   ]
  },
  {
   "cell_type": "code",
   "execution_count": 2,
   "metadata": {},
   "outputs": [
    {
     "name": "stdout",
     "output_type": "stream",
     "text": [
      "hello,大家好，下面我自我介绍一下我自己：\n",
      "<class 'tuple'>\n",
      "lala\n",
      "18\n",
      "qingdaokejidaxue\n",
      "sigle\n",
      "hello,大家好，下面我自我介绍一下我自己：\n",
      "<class 'tuple'>\n",
      "jingjing\n",
      "hello,大家好，下面我自我介绍一下我自己：\n",
      "<class 'tuple'>\n"
     ]
    }
   ],
   "source": [
    "# 搜集参数代码\n",
    "#模拟一个学生进行自我介绍，但具体内容不清楚\n",
    "#args把他看做一个列表\n",
    "def stu(*args):\n",
    "    print('hello,大家好，下面我自我介绍一下我自己：')\n",
    "    #type函数作用是检测变量的类型\n",
    "    print(type(args))\n",
    "    for item in args:\n",
    "        print(item)\n",
    "\n",
    "stu('lala',18,'qingdaokejidaxue','sigle')\n",
    "stu('jingjing')\n",
    "#搜集函数可为空的案例\n",
    "stu()"
   ]
  },
  {
   "cell_type": "markdown",
   "metadata": {},
   "source": [
    "## 搜集函数混合调用的顺序问题\n",
    "- 搜集参数，关键字参数，普通参数可以混合使用\n",
    "- 使用规则就是，普通参数和关键字参数优先\n",
    "- 定义的时候一般找普通参数，关键字参数，手机参数tuple，搜集参数dict\n"
   ]
  },
  {
   "cell_type": "code",
   "execution_count": 23,
   "metadata": {},
   "outputs": [
    {
     "name": "stdout",
     "output_type": "stream",
     "text": [
      "helll,大家好\n",
      "我叫lele，我今年18岁了。\n",
      "我没有爱好！\n",
      "********************\n",
      "####################\n",
      "helll,大家好\n",
      "我叫lele，我今年18岁了。\n",
      "我的爱好是游泳\n",
      "********************\n",
      "####################\n",
      "helll,大家好\n",
      "我叫lele，我今年18岁了。\n",
      "我的爱好是游泳\n",
      "********************\n",
      "####################\n",
      "hobby1 --- 吃饭\n",
      "techang --- 打篮球\n",
      "hobby2 --- 看海贼王\n"
     ]
    }
   ],
   "source": [
    "#搜集参数混合调用的案例\n",
    "# stu模拟一个学生的自我介绍\n",
    "def stu(name,age,*args,hobby='没有',**kwargs):\n",
    "    print('helll,大家好')\n",
    "    print('我叫{0}，我今年{1}岁了。'.format(name,age))\n",
    "    if hobby=='没有':\n",
    "        print('我没有爱好！')\n",
    "    else:\n",
    "        print('我的爱好是{0}'.format(hobby))\n",
    "    print('*'*20)\n",
    "    \n",
    "    for i in args:\n",
    "        print(i)\n",
    "    print('#'*20)\n",
    "    for k,v in kwargs.items():\n",
    "        print(k,'---',v)\n",
    "    \n",
    "#开始调用函数\n",
    "name = 'lele'\n",
    "age = 18\n",
    "#函数的不同调用方法\n",
    "stu(name,age)\n",
    "stu(name,age,hobby = '游泳')\n",
    "stu(name,age,hobby= '游泳',hobby1='吃饭',techang='打篮球',hobby2='看海贼王')"
   ]
  },
  {
   "cell_type": "markdown",
   "metadata": {},
   "source": [
    "### 搜集参数的解包问题\n",
    "- 把参数放入list或者字典中，直接吧list/dict种的值放入搜集参数中\n",
    "- 语法：参考下面案例\n"
   ]
  },
  {
   "cell_type": "code",
   "execution_count": 22,
   "metadata": {},
   "outputs": [
    {
     "name": "stdout",
     "output_type": "stream",
     "text": [
      "呵呵哈哈哈\n",
      "<class 'str'>\n",
      "0\n",
      "lili\n",
      "<class 'str'>\n",
      "1\n",
      "jingjing\n",
      "<class 'int'>\n",
      "2\n",
      "19\n",
      "<class 'int'>\n",
      "3\n",
      "200\n",
      "呵呵哈哈哈\n",
      "<class 'list'>\n",
      "0\n",
      "['lili', 20, 200]\n"
     ]
    }
   ],
   "source": [
    "#搜集参数的解包问题\n",
    "def stu(*args):\n",
    "    print('呵呵哈哈哈')\n",
    "    n=0\n",
    "    for i in args:\n",
    "        print(type(i))\n",
    "        print(n)\n",
    "        n+=1\n",
    "        print(i)\n",
    "\n",
    "stu('lili','jingjing',19,200)\n",
    "\n",
    "l=list()\n",
    "l.append('lili')\n",
    "l.append(20)\n",
    "l.append(200)\n",
    "stu(l)"
   ]
  },
  {
   "cell_type": "markdown",
   "metadata": {},
   "source": [
    "# 返回值\n",
    "     - 函数的执行结果\n",
    "     - 使用return关键字\n",
    "     - 如果没有return关键字，则默认返回None\n",
    "     - 函数一旦执行return语句，则无条件返回\n",
    "     - 推荐写法，无论有没有返回自，最后都要以return结束"
   ]
  },
  {
   "cell_type": "code",
   "execution_count": 3,
   "metadata": {},
   "outputs": [
    {
     "name": "stdout",
     "output_type": "stream",
     "text": [
      "有返回值\n",
      "1\n",
      "没有返回值\n",
      "None\n"
     ]
    }
   ],
   "source": [
    "def func_1():\n",
    "    print('有返回值')\n",
    "    return 1\n",
    "def func_2():\n",
    "    print('没有返回值')\n",
    "f1 = func_1()\n",
    "print(f1)\n",
    "f2 = func_2()\n",
    "print(f2)"
   ]
  },
  {
   "cell_type": "markdown",
   "metadata": {},
   "source": [
    "# 函数文档\n",
    "- 函数的文档作用是对当前的函数使用相关的参考信息\n",
    "- 文档的写法：\n",
    "     - 在函数的内部的开始的第一行使用三字符串定义符\n",
    "     - 一般具有特定格式\n",
    "     - 参考案例\n",
    "- 文档查看\n",
    "     - 使用help函数。形如help（dunc）\n",
    "     - 使用__doc__,参考案例"
   ]
  },
  {
   "cell_type": "code",
   "execution_count": 4,
   "metadata": {},
   "outputs": [
    {
     "name": "stdout",
     "output_type": "stream",
     "text": [
      "Help on function stu in module __main__:\n",
      "\n",
      "stu(name, age, *args)\n",
      "    这是第一行\n",
      "    这是第二行\n",
      "    这是第三行\n",
      "\n"
     ]
    },
    {
     "data": {
      "text/plain": [
       "'\\n    这是第一行\\n    这是第二行\\n    这是第三行\\n    '"
      ]
     },
     "execution_count": 4,
     "metadata": {},
     "output_type": "execute_result"
    }
   ],
   "source": [
    "#文档案例\n",
    "#函数stu是模拟一个学生的自我介绍内容\n",
    "def stu(name,age,*args):\n",
    "    '''\n",
    "    这是第一行\n",
    "    这是第二行\n",
    "    这是第三行\n",
    "    '''\n",
    "    print('this is hanshu stu')\n",
    "\n",
    "#查看函数文档\n",
    "help(stu)\n",
    "stu.__doc__\n",
    "    "
   ]
  },
  {
   "cell_type": "code",
   "execution_count": null,
   "metadata": {},
   "outputs": [],
   "source": []
  },
  {
   "cell_type": "code",
   "execution_count": null,
   "metadata": {},
   "outputs": [],
   "source": []
  },
  {
   "cell_type": "code",
   "execution_count": null,
   "metadata": {},
   "outputs": [],
   "source": []
  }
 ],
 "metadata": {
  "kernelspec": {
   "display_name": "Python 3",
   "language": "python",
   "name": "python3"
  },
  "language_info": {
   "codemirror_mode": {
    "name": "ipython",
    "version": 3
   },
   "file_extension": ".py",
   "mimetype": "text/x-python",
   "name": "python",
   "nbconvert_exporter": "python",
   "pygments_lexer": "ipython3",
   "version": "3.6.5"
  }
 },
 "nbformat": 4,
 "nbformat_minor": 2
}
