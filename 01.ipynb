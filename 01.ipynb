{
 "cells": [
  {
   "cell_type": "code",
   "execution_count": 1,
   "metadata": {},
   "outputs": [
    {
     "name": "stdout",
     "output_type": "stream",
     "text": [
      "hellow world\n"
     ]
    },
    {
     "data": {
      "text/plain": [
       "'\\n哟哟哟哟哟哟哟哦哟\\n哦哟哟哦哟哟\\n哟哟哟哦\\n'"
      ]
     },
     "execution_count": 1,
     "metadata": {},
     "output_type": "execute_result"
    }
   ],
   "source": [
    "#哟哟哟哟哟\n",
    "print(\"hellow world\") #哟哟哟哦哟哟\n",
    "'''\n",
    "哟哟哟哟哟哟哟哦哟\n",
    "哦哟哟哦哟哟\n",
    "哟哟哟哦\n",
    "'''"
   ]
  },
  {
   "cell_type": "markdown",
   "metadata": {},
   "source": [
    "#  注释\n",
    " - 机器不执行注释内容\n",
    " - 注释一般用自然语言书写\n",
    " - 注释的写法：\n",
    "    -  行注释：以#开头，可以单独一行，也可在代码后边进行注解\n",
    "    -  块注释：好几行的代码或者内容，以三个连续的单引号或双引号开始，中间的任何内容机器都会忽略\n",
    "      "
   ]
  },
  {
   "cell_type": "markdown",
   "metadata": {},
   "source": [
    "# 变量\n",
    "-  程序=数据结构+算法\n",
    "-  变量就是一个可以重复使用的一个量，或者叫一个代号\n",
    "-  变量名的规则：\n",
    "       - 变量名可以包含数字，大小写字母，下划线或者更多。但不推荐使用前三种之外的符号\n",
    "       - 数字不可以打头\n",
    "           - 4man，5lang 是不可以的\n",
    "           - man4，lang5 是允许的\n",
    "       - 一般在Python种，以下划线开头的内容具有特殊的意义，\n",
    "       - 大小写是不一样的，也就是大小写敏感\n",
    "       - 驼峰命名法：\n",
    "         -大驼峰,每个单词的首字母大写\n",
    "            - 在Python种给类的命名用这种方法\n",
    "            - MyFirstLove , IntOne\n",
    "            \n",
    "         -小驼峰，类似于大驼峰，但第一个单词的首字母小写\n",
    "            - 在Python种给普通变量或者函数命名\n",
    "            - myfirstLove ，intOne\n",
    "            \n",
    "       - 保留字和关键字\n",
    "           - 变量名必须避开，不能跟保留字和关键子重复\n",
    "           - class，def，break，for’‘’‘’\n",
    "           \n",
    "           "
   ]
  },
  {
   "cell_type": "code",
   "execution_count": 2,
   "metadata": {},
   "outputs": [
    {
     "data": {
      "text/plain": [
       "['False',\n",
       " 'None',\n",
       " 'True',\n",
       " 'and',\n",
       " 'as',\n",
       " 'assert',\n",
       " 'break',\n",
       " 'class',\n",
       " 'continue',\n",
       " 'def',\n",
       " 'del',\n",
       " 'elif',\n",
       " 'else',\n",
       " 'except',\n",
       " 'finally',\n",
       " 'for',\n",
       " 'from',\n",
       " 'global',\n",
       " 'if',\n",
       " 'import',\n",
       " 'in',\n",
       " 'is',\n",
       " 'lambda',\n",
       " 'nonlocal',\n",
       " 'not',\n",
       " 'or',\n",
       " 'pass',\n",
       " 'raise',\n",
       " 'return',\n",
       " 'try',\n",
       " 'while',\n",
       " 'with',\n",
       " 'yield']"
      ]
     },
     "execution_count": 2,
     "metadata": {},
     "output_type": "execute_result"
    }
   ],
   "source": [
    "#查看关键字的方法\n",
    "import keyword #引入关键字模块\n",
    "keyword.kwlist\n"
   ]
  },
  {
   "cell_type": "markdown",
   "metadata": {},
   "source": [
    "## 变量声明\n",
    "- var_name=var_value #等号不为相等的意思，其实是赋值\n",
    "- var1=var2=var3=var_value"
   ]
  },
  {
   "cell_type": "code",
   "execution_count": 5,
   "metadata": {},
   "outputs": [
    {
     "name": "stdout",
     "output_type": "stream",
     "text": [
      "18\n",
      "18\n",
      "18\n",
      "18\n",
      "18\n",
      "12\n",
      "21\n",
      "45\n"
     ]
    }
   ],
   "source": [
    "age=18\n",
    "print(age)\n",
    "print(18)\n",
    "age1=age2=age3=18\n",
    "print(age1)\n",
    "print(age2)\n",
    "print(age3)\n",
    "\n",
    "age4,age5,age6=12,21,45\n",
    "print(age4)\n",
    "print(age5)\n",
    "print(age6)"
   ]
  },
  {
   "cell_type": "markdown",
   "metadata": {},
   "source": [
    "## 变量类型\n",
    "- 严格意义上讲，Python只有一个类型\n",
    "- 标准数据一共6种\n",
    "     -  数字类型Number\n",
    "     -  字符串类型str\n",
    "     -  列表类型list\n",
    "     -  元组tuple\n",
    "     -  字典Dictionary\n",
    "     -  集合set"
   ]
  },
  {
   "cell_type": "markdown",
   "metadata": {},
   "source": [
    "### Number数字类型\n",
    "- 数字类型没有大小限制\n",
    " #### 整数\n",
    "- 没有小数部分，表示个数的数字\n",
    "- 自然数，0，负自然数\n",
    "- 整数分进制 \n",
    "    -  二进制\n",
    "        -  计算机常用\n",
    "        -  是计算机可以直接理解的数字\n",
    "        -  表示为0b开头的0,1代码\n",
    "        -  例如：0b0111，0b0101\n",
    "    -  八进制\n",
    "        -  0o开头的0-7的数字\n",
    "    -  十六进制\n",
    "        - 没四位二进制表示一位十六进制\n",
    "        - 包含0-9，a-f\n",
    "        - 数字上以0x开头表示"
   ]
  },
  {
   "cell_type": "code",
   "execution_count": 6,
   "metadata": {},
   "outputs": [
    {
     "name": "stdout",
     "output_type": "stream",
     "text": [
      "18\n",
      "7\n",
      "63\n",
      "255\n"
     ]
    }
   ],
   "source": [
    "age=18\n",
    "print(age)\n",
    "\n",
    "age=0b0111\n",
    "print(age)\n",
    "\n",
    "age=0o77\n",
    "print(age)\n",
    "\n",
    "age=0xff\n",
    "print(age)"
   ]
  },
  {
   "cell_type": "markdown",
   "metadata": {},
   "source": [
    "#### 浮点数\n",
    "- 小数\n",
    "- 计算机里边表示浮点数可以有条件省略\n",
    "     -  3.1515\n",
    "     -  3.  =3.0\n",
    "     -  .5=0.5\n",
    "- 科学计数法\n",
    "     - 写法是用e/E后面跟的数字表示10的指数\n",
    "     - 176.23==1.7623e2\n",
    "     - 0.876 ==8.76e-1\n",
    "#### 布尔值\n",
    "- 表示真假的值\n",
    "- 只有两个值，True/False\n",
    "- 布尔值可以跟数字直接运算"
   ]
  },
  {
   "cell_type": "code",
   "execution_count": 8,
   "metadata": {},
   "outputs": [
    {
     "name": "stdout",
     "output_type": "stream",
     "text": [
      "180.5\n",
      "180.5\n",
      "19\n"
     ]
    }
   ],
   "source": [
    "shengao=180.5\n",
    "print(shengao)\n",
    "shengao=1.805e2\n",
    "print(shengao)\n",
    "age=18 + True\n",
    "print(age)"
   ]
  },
  {
   "cell_type": "markdown",
   "metadata": {},
   "source": [
    "## 字符串\n",
    "- 用来表示一段文字信息\n",
    "- 如何表示\n",
    "     -   单引号\n",
    "     -   双引号\n",
    "     -   三引号\n",
    "- 交错使用\n",
    "\n"
   ]
  },
  {
   "cell_type": "code",
   "execution_count": 10,
   "metadata": {},
   "outputs": [
    {
     "name": "stdout",
     "output_type": "stream",
     "text": [
      "青岛科技大学\n"
     ]
    }
   ],
   "source": [
    "school='青岛科技大学'\n",
    "print(school)"
   ]
  },
  {
   "cell_type": "code",
   "execution_count": null,
   "metadata": {},
   "outputs": [],
   "source": []
  }
 ],
 "metadata": {
  "kernelspec": {
   "display_name": "Python 3",
   "language": "python",
   "name": "python3"
  },
  "language_info": {
   "codemirror_mode": {
    "name": "ipython",
    "version": 3
   },
   "file_extension": ".py",
   "mimetype": "text/x-python",
   "name": "python",
   "nbconvert_exporter": "python",
   "pygments_lexer": "ipython3",
   "version": "3.6.5"
  }
 },
 "nbformat": 4,
 "nbformat_minor": 2
}
