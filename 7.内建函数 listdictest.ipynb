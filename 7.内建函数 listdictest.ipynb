{
 "cells": [
  {
   "cell_type": "code",
   "execution_count": 3,
   "metadata": {},
   "outputs": [
    {
     "name": "stdout",
     "output_type": "stream",
     "text": [
      "[1, 2, 3, 4, 5, 6]\n",
      "[1, 2, 300, 4, 5, 6]\n",
      "[1, 2, 300, 4, 5, 6]\n",
      "9\n",
      "109\n",
      "9\n"
     ]
    }
   ],
   "source": [
    "#传值和传址的区别\n",
    "\n",
    "def a(n):\n",
    "    n[2] = 300\n",
    "    print(n)\n",
    "    return None\n",
    "def b(n):\n",
    "    n +=100\n",
    "    print(n)\n",
    "    return None\n",
    "\n",
    "an = [1,2,3,4,5,6]\n",
    "bn = 9\n",
    "print(an)\n",
    "a(an)\n",
    "print(an)\n",
    "\n",
    "print(bn)\n",
    "b(bn)\n",
    "print(bn)"
   ]
  },
  {
   "cell_type": "markdown",
   "metadata": {},
   "source": [
    "# 关于列表的函数\n"
   ]
  },
  {
   "cell_type": "code",
   "execution_count": 4,
   "metadata": {},
   "outputs": [
    {
     "data": {
      "text/plain": [
       "['a', 'i love you ', 45, 9]"
      ]
     },
     "execution_count": 4,
     "metadata": {},
     "output_type": "execute_result"
    }
   ],
   "source": [
    "l = ['a','i love you ',45,5+4]\n",
    "l"
   ]
  },
  {
   "cell_type": "code",
   "execution_count": 5,
   "metadata": {},
   "outputs": [
    {
     "name": "stdout",
     "output_type": "stream",
     "text": [
      "[1, 2, 3, 4, 5, 6, 100]\n"
     ]
    }
   ],
   "source": [
    "#append 插入一个数据，并排在末尾的位子\n",
    "a = [1,2,3,4,5,6]\n",
    "a.append(100)\n",
    "print(a)"
   ]
  },
  {
   "cell_type": "code",
   "execution_count": 6,
   "metadata": {},
   "outputs": [
    {
     "name": "stdout",
     "output_type": "stream",
     "text": [
      "[1, 2, 3, 100, 4, 5, 6, 7]\n"
     ]
    }
   ],
   "source": [
    "#insert 指定位子插入数据\n",
    "a = [1,2,3,4,5,6,7]\n",
    "a.insert(3,100)\n",
    "print(a)"
   ]
  },
  {
   "cell_type": "code",
   "execution_count": null,
   "metadata": {},
   "outputs": [],
   "source": [
    "# 删除\n",
    "#del 删除\n",
    "#pop 把最后一个元素拿出来"
   ]
  },
  {
   "cell_type": "code",
   "execution_count": 18,
   "metadata": {},
   "outputs": [
    {
     "name": "stdout",
     "output_type": "stream",
     "text": [
      "[1, 2, 5, 6]\n",
      "5\n",
      "[1, 2, 6]\n",
      "[1, 2, 6]\n"
     ]
    }
   ],
   "source": [
    "print(a)\n",
    "last_num = a.pop(2)#指定位置提取出一个元素。 也就相当于在列表中删除额某一元素\n",
    "print(last_num)\n",
    "print(a)\n"
   ]
  },
  {
   "cell_type": "code",
   "execution_count": 25,
   "metadata": {},
   "outputs": [
    {
     "name": "stdout",
     "output_type": "stream",
     "text": [
      "[2, 3, 4, 5, 6]\n",
      "[2, 3, 6]\n"
     ]
    }
   ],
   "source": [
    "a = [1,2,3,4,5,6]\n",
    "del a[0]#删除下标为0的元素\n",
    "print(a)\n",
    "del a[2:4]#删除下标为2-4的元素，含头不含尾\n",
    "print(a)\n",
    "# del a  删除列表"
   ]
  },
  {
   "cell_type": "code",
   "execution_count": 29,
   "metadata": {},
   "outputs": [
    {
     "name": "stdout",
     "output_type": "stream",
     "text": [
      "[]\n"
     ]
    }
   ],
   "source": [
    "#remove\n",
    "# clear：清空但列表地址保持不变\n",
    "a = [1,2,3,4,5,6,7]\n",
    "a.clear()\n",
    "print(a)"
   ]
  },
  {
   "cell_type": "code",
   "execution_count": 31,
   "metadata": {},
   "outputs": [
    {
     "name": "stdout",
     "output_type": "stream",
     "text": [
      "[9, 8, 7, 6, 5, 4, 3, 2, 1]\n"
     ]
    }
   ],
   "source": [
    "#reverse 翻转，原地翻转\n",
    "a = [1,2,3,4,5,6,7,8,9]\n",
    "a.reverse()\n",
    "print(a)"
   ]
  },
  {
   "cell_type": "code",
   "execution_count": 33,
   "metadata": {},
   "outputs": [
    {
     "name": "stdout",
     "output_type": "stream",
     "text": [
      "[1, 2, 3, 4, 5, 6, 7, 8]\n"
     ]
    }
   ],
   "source": [
    "# extend：扩展列表，把一个列表直接拼接到另一个列表的后边\n",
    "a = [1,2,3,4] \n",
    "b = [5,6,7,8]\n",
    "a.extend(b)\n",
    "print(a)"
   ]
  },
  {
   "cell_type": "code",
   "execution_count": 35,
   "metadata": {},
   "outputs": [
    {
     "name": "stdout",
     "output_type": "stream",
     "text": [
      "[1, 2, 3, 4, 5, 1]\n",
      "[1, 2, 1, 3, 4, 5, 1]\n",
      "3\n"
     ]
    }
   ],
   "source": [
    "#count: 查找列表中指定元素的个数\n",
    "a = [1,2,3,4,5]\n",
    "a.append(1)\n",
    "print(a)\n",
    "a.insert(2,1)\n",
    "print(a)\n",
    "s = a.count(1)\n",
    "print(s)\n"
   ]
  },
  {
   "cell_type": "code",
   "execution_count": 5,
   "metadata": {},
   "outputs": [
    {
     "name": "stdout",
     "output_type": "stream",
     "text": [
      "[0, 1, 2, 3, 4, 5, 6]\n",
      "[0, 1, 2, 777, 4, 5, 6]\n",
      "[0, 1, 2, 777, 4, 5, 6]\n",
      "********************\n",
      "[0, 1, 2, 777, 4, 5, 6]\n",
      "140135728744200\n",
      "[0, 1, 2, 777, 4, 5, 6]\n",
      "140135798083144\n",
      "********************\n",
      "[0, 1, 2, 777, 4, 5, 6]\n",
      "[0, 1, 2, 333, 4, 5, 6]\n"
     ]
    }
   ],
   "source": [
    "# copy:浅拷贝\n",
    "\n",
    "# 列表类型变量赋值事例\n",
    "a=[0,1,2,3,4,5,6]\n",
    "print(a)\n",
    "b = a\n",
    "#list 是传址操作；指向同一个地址，所以其中一个变化后，另一个也会跟着变化。\n",
    "b[3]=777\n",
    "print(a)\n",
    "print(b)\n",
    "print('*'*20)\n",
    "#解决传址问题的方法，copy函数。\n",
    "c = a.copy()\n",
    "print(a)\n",
    "print(id(a))\n",
    "print(c)\n",
    "print(id(c))\n",
    "print('*'*20)\n",
    "c[3]=333\n",
    "print(a)\n",
    "print(c)"
   ]
  },
  {
   "cell_type": "code",
   "execution_count": 6,
   "metadata": {},
   "outputs": [
    {
     "name": "stdout",
     "output_type": "stream",
     "text": [
      "140135790357000\n",
      "140135790357000\n",
      "[1, 2, 3, [1, 2, 666]]\n",
      "[1, 2, 3, [1, 2, 666]]\n"
     ]
    }
   ],
   "source": [
    "# 深拷贝与浅拷贝的区别\n",
    "# 下列问题是以为copy是浅拷贝，只会拷贝一层，第二层的列表还是会指向同一个地址\n",
    "a = [1,2,3,[1,2,3]]\n",
    "b=a.copy()\n",
    "print(id(a[3]))\n",
    "print(id(b[3]))\n",
    "a[3][2] = 666\n",
    "print(a)\n",
    "print(b)"
   ]
  },
  {
   "cell_type": "markdown",
   "metadata": {},
   "source": [
    "\n",
    "# 元组- tuple\n",
    "- 元组可以看做是一个不可更改的list\n",
    "\n",
    "## 元组的创建\n"
   ]
  },
  {
   "cell_type": "code",
   "execution_count": 9,
   "metadata": {},
   "outputs": [
    {
     "name": "stdout",
     "output_type": "stream",
     "text": [
      "<class 'tuple'>\n",
      "<class 'tuple'>\n",
      "<class 'tuple'>\n",
      "<class 'tuple'>\n"
     ]
    }
   ],
   "source": [
    "#创建一个空元组\n",
    "t = ()\n",
    "print(type(t))\n",
    "#创建一个只有一个值的元组\n",
    "t= (1,)#不加逗号就是成为int类型\n",
    "print(type(t))\n",
    "t1 = (1,2,3,4,5)#两种类型都可以创建元组\n",
    "t2 = 2,3,4,5,6\n",
    "print(type(t1))\n",
    "print(type(t2))"
   ]
  },
  {
   "cell_type": "markdown",
   "metadata": {},
   "source": [
    "## 元组的特性\n",
    "- 是序列表，有序的\n",
    "- 元组数据值可以访问，不能更改！\n",
    "- 元组数据可以是任意类型\n",
    "- 总之，list所有的特性，粗了可以修改外，元组都具有\n",
    "- 也就意味着，list具有的一些操作，比如索引，序列相加。。。。都一模一样"
   ]
  },
  {
   "cell_type": "code",
   "execution_count": 12,
   "metadata": {},
   "outputs": [
    {
     "name": "stdout",
     "output_type": "stream",
     "text": [
      "(1, 3, 5, 2, 4, 6, 1, 4, 6)\n"
     ]
    }
   ],
   "source": [
    "t1 = (1,3,5)\n",
    "t2 = (2,4,6)\n",
    "t3 = (1,4,6)\n",
    "t1 += t2\n",
    "t1 += t3dingyi\n",
    "print(t1)\n"
   ]
  },
  {
   "cell_type": "markdown",
   "metadata": {},
   "source": [
    "\n",
    "# 元组的变量交换发法\n",
    "- 两个变量交换值"
   ]
  },
  {
   "cell_type": "code",
   "execution_count": 14,
   "metadata": {},
   "outputs": [
    {
     "name": "stdout",
     "output_type": "stream",
     "text": [
      "1\n",
      "3\n",
      "3\n",
      "1\n",
      "1\n",
      "3\n"
     ]
    }
   ],
   "source": [
    "# 两个变量交换值\n",
    "a = 1\n",
    "b = 3\n",
    "# java的交换写法\n",
    "print(a)\n",
    "print(b)\n",
    "c=a\n",
    "a=b\n",
    "b=c\n",
    "print(a)\n",
    "print(b)\n",
    "# Python的写法\n",
    "a,b=b,a\n",
    "print(a)\n",
    "print(b)"
   ]
  },
  {
   "cell_type": "markdown",
   "metadata": {},
   "source": [
    "\n",
    "# 集合 -set\n",
    "- 一堆确定的无序的唯一的数据\n",
    "- 能够排除重复的数据"
   ]
  },
  {
   "cell_type": "code",
   "execution_count": null,
   "metadata": {},
   "outputs": [],
   "source": [
    "# 集合的定义\n",
    "s = set()"
   ]
  },
  {
   "cell_type": "code",
   "execution_count": 17,
   "metadata": {},
   "outputs": [
    {
     "name": "stdout",
     "output_type": "stream",
     "text": [
      "140135728370408\n",
      "<class 'set'>\n"
     ]
    }
   ],
   "source": [
    "s = {1,2,3,4,5,6}#  大括号内必须加数据，否者会变成dict类型。\n",
    "print(id(s))\n",
    "print(type(s))"
   ]
  },
  {
   "cell_type": "code",
   "execution_count": 20,
   "metadata": {},
   "outputs": [
    {
     "name": "stdout",
     "output_type": "stream",
     "text": [
      "{1, 2, 4, 5, 6, 45, 654}\n",
      "{1, 2, 3, 4, 5, 6, 7, 8, 9}\n"
     ]
    }
   ],
   "source": [
    "#集合的操作\n",
    "s = {1,2,1,2,1,5,4,654,45,4,5,6,1}# 排除重复\n",
    "print(s)\n",
    "#按从小到大的顺序排列好\n",
    "s1 = {9,8,7,6,5,4,3,2,1,1,1}\n",
    "print(s1)"
   ]
  },
  {
   "cell_type": "code",
   "execution_count": 28,
   "metadata": {},
   "outputs": [
    {
     "name": "stdout",
     "output_type": "stream",
     "text": [
      "1\n",
      "{2, 3, 4, 5, 6, 7, 8, 9}\n"
     ]
    }
   ],
   "source": [
    "# pop 随机移除一个元素\n",
    "a = {1,2,3,4,5,6,7,8,9}\n",
    "d = a.pop()\n",
    "print(d)\n",
    "print(a)"
   ]
  },
  {
   "cell_type": "markdown",
   "metadata": {},
   "source": [
    "\n",
    "# 集合函数\n",
    "- intersection ：交集\n",
    "- difference ： 差集\n",
    "- union ： 并集\n",
    "- issubset ： 检查一个集合是否为另一个的子集\n",
    "- issuperset ： 检查一个集合是否是另一个的超集\n"
   ]
  },
  {
   "cell_type": "code",
   "execution_count": 34,
   "metadata": {},
   "outputs": [
    {
     "name": "stdout",
     "output_type": "stream",
     "text": [
      "{5}\n",
      "{1, 2, 3, 4}\n"
     ]
    }
   ],
   "source": [
    "# 集合函数操作\n",
    "s1 = {1,2,3,4,5}\n",
    "s2 = {5,6,7,8}\n",
    "s_1 = s1.intersection(s2)\n",
    "print(s_1)\n",
    "s_2= s1.difference(s2)\n",
    "print(s_2)"
   ]
  },
  {
   "cell_type": "markdown",
   "metadata": {},
   "source": [
    "# frozen set :冰冻集合\n",
    "- 冰冻就是不可以进行任何修改的集合\n",
    "- 是一种特殊集合"
   ]
  },
  {
   "cell_type": "code",
   "execution_count": 35,
   "metadata": {},
   "outputs": [
    {
     "name": "stdout",
     "output_type": "stream",
     "text": [
      "<class 'frozenset'>\n"
     ]
    }
   ],
   "source": [
    "# 创建冰冻集合\n",
    "s = frozenset()\n",
    "print(type(s))"
   ]
  },
  {
   "cell_type": "markdown",
   "metadata": {},
   "source": [
    "# dict字典\n",
    "- 字典是一种组合数据，没有顺序的组合数据，数据以键值对的形式出现"
   ]
  },
  {
   "cell_type": "code",
   "execution_count": 36,
   "metadata": {},
   "outputs": [
    {
     "name": "stdout",
     "output_type": "stream",
     "text": [
      "<class 'dict'>\n"
     ]
    }
   ],
   "source": [
    "# 字典的创建\n",
    "d = {}\n",
    "print(type(d))\n",
    "d = dict()\n",
    "d={'one':1,'two':2,'three':3}"
   ]
  },
  {
   "cell_type": "markdown",
   "metadata": {},
   "source": [
    "# 字典的特征\n",
    "- 字典是序列类型，但是是无序序列，所以没有分片和索引\n",
    "- 字典种的每个数据每个都有键值对组成，即kv对\n",
    "    - key: 必须是可哈希的值，比如 int ，string， float ， tuple。但是list ，set ，dict不行\n",
    "    - value:任何值"
   ]
  },
  {
   "cell_type": "code",
   "execution_count": 2,
   "metadata": {},
   "outputs": [
    {
     "name": "stdout",
     "output_type": "stream",
     "text": [
      "1\n",
      "{'one': 'eins', 'two': 2, 'three': 3}\n",
      "{'two': 2, 'three': 3}\n"
     ]
    }
   ],
   "source": [
    "# 访问数据\n",
    "d = {'one':1,'two':2,'three':3}\n",
    "#注意访问键值\n",
    "#中括号里边是键值\n",
    "print(d['one'])\n",
    "\n",
    "d['one']='eins'\n",
    "print(d)\n",
    "\n",
    "#删除操作del\n",
    "del d['one']\n",
    "print(d)"
   ]
  },
  {
   "cell_type": "code",
   "execution_count": 11,
   "metadata": {},
   "outputs": [
    {
     "name": "stdout",
     "output_type": "stream",
     "text": [
      "2\n"
     ]
    }
   ],
   "source": [
    "# 成员检测：in ， not in\n",
    "# 成员检测只检测key的内容！！！！\n",
    "d = {'one':1,'two':2,'three':3}\n",
    "if 2 in d:\n",
    "    print('value')\n",
    "if 'two' in d:\n",
    "    print('key')\n",
    "if ('two',2) in d:\n",
    "    print('kv')"
   ]
  },
  {
   "cell_type": "code",
   "execution_count": 11,
   "metadata": {},
   "outputs": [
    {
     "name": "stdout",
     "output_type": "stream",
     "text": [
      "one 1\n",
      "two 2\n",
      "three 3\n",
      "**********\n",
      "1\n",
      "2\n",
      "3\n",
      "**********\n",
      "one --- 1\n",
      "two --- 2\n",
      "three --- 3\n"
     ]
    }
   ],
   "source": [
    "#遍历操作\n",
    "# 按key来使用for循环\n",
    "d = {'one':1,'two':2,'three':3}\n",
    "#使用for循环，直接按key值访问\n",
    "for k in d:\n",
    "    print(k,d[k])\n",
    "print('*'*10)\n",
    "#只访问字典的值\n",
    "for v in d.values():\n",
    "    print(v)\n",
    "print('*'*10)\n",
    "#注意下列特殊用法\n",
    "for k,v in d.items():\n",
    "    print(k,'---',v)"
   ]
  },
  {
   "cell_type": "markdown",
   "metadata": {},
   "source": [
    "# 字典的生成式"
   ]
  },
  {
   "cell_type": "code",
   "execution_count": 13,
   "metadata": {},
   "outputs": [
    {
     "name": "stdout",
     "output_type": "stream",
     "text": [
      "{'one': 1, 'two': 2, 'three': 3}\n",
      "{'two': 2}\n"
     ]
    }
   ],
   "source": [
    "d = {'one':1,'two':2,'three':3}\n",
    "#常规生成式\n",
    "dd = {k:v for k,v in d.items()}\n",
    "\n",
    "print(dd)\n",
    "\n",
    "#加限制条件的字典生成式\n",
    "\n",
    "ddd = {k:v for k,v in d.items() if v%2 == 0 }# 取偶数的值\n",
    "print(ddd)\n"
   ]
  },
  {
   "cell_type": "markdown",
   "metadata": {},
   "source": [
    "# 字典的相关函数"
   ]
  },
  {
   "cell_type": "code",
   "execution_count": 14,
   "metadata": {},
   "outputs": [
    {
     "name": "stdout",
     "output_type": "stream",
     "text": [
      "{'one': 1, 'two': 2, 'three': 3}\n"
     ]
    }
   ],
   "source": [
    "# 通用函数 len ，max ，min ，dict\n",
    "# str（字典）：返回字典的字符串格式！\n",
    "d = {'one':1,'two':2,'three':3}\n",
    "print(str(d))"
   ]
  },
  {
   "cell_type": "code",
   "execution_count": 16,
   "metadata": {},
   "outputs": [
    {
     "name": "stdout",
     "output_type": "stream",
     "text": [
      "<class 'dict_items'>\n",
      "dict_items([('one', 1), ('two', 2), ('three', 3)])\n"
     ]
    }
   ],
   "source": [
    "#clear:清空字典\n",
    "#items： 返回字典的键值对组成的元组格式\n",
    "d = {'one':1,'two':2,'three':3}\n",
    "i = d.items()\n",
    "print(type(i))\n",
    "print(i)"
   ]
  },
  {
   "cell_type": "code",
   "execution_count": 20,
   "metadata": {},
   "outputs": [
    {
     "name": "stdout",
     "output_type": "stream",
     "text": [
      "<class 'dict_values'>\n",
      "dict_values([1, 2, 3])\n"
     ]
    }
   ],
   "source": [
    "# values: 返回一个可迭代的结构\n",
    "d = {'one':1,'two':2,'three':3}\n",
    "v = d.values()\n",
    "print(type(v))\n",
    "print(v)"
   ]
  },
  {
   "cell_type": "code",
   "execution_count": 22,
   "metadata": {},
   "outputs": [
    {
     "name": "stdout",
     "output_type": "stream",
     "text": [
      "None\n",
      "1\n",
      "100\n"
     ]
    },
    {
     "ename": "KeyError",
     "evalue": "'on333'",
     "output_type": "error",
     "traceback": [
      "\u001b[0;31m---------------------------------------------------------------------------\u001b[0m",
      "\u001b[0;31mKeyError\u001b[0m                                  Traceback (most recent call last)",
      "\u001b[0;32m<ipython-input-22-4419255589c9>\u001b[0m in \u001b[0;36m<module>\u001b[0;34m()\u001b[0m\n\u001b[1;32m      4\u001b[0m \u001b[0mprint\u001b[0m\u001b[0;34m(\u001b[0m\u001b[0md\u001b[0m\u001b[0;34m.\u001b[0m\u001b[0mget\u001b[0m\u001b[0;34m(\u001b[0m\u001b[0;34m'one'\u001b[0m\u001b[0;34m,\u001b[0m\u001b[0;36m100\u001b[0m\u001b[0;34m)\u001b[0m\u001b[0;34m)\u001b[0m\u001b[0;34m\u001b[0m\u001b[0m\n\u001b[1;32m      5\u001b[0m \u001b[0mprint\u001b[0m\u001b[0;34m(\u001b[0m\u001b[0md\u001b[0m\u001b[0;34m.\u001b[0m\u001b[0mget\u001b[0m\u001b[0;34m(\u001b[0m\u001b[0;34m'one123123'\u001b[0m\u001b[0;34m,\u001b[0m\u001b[0;36m100\u001b[0m\u001b[0;34m)\u001b[0m\u001b[0;34m)\u001b[0m\u001b[0;34m\u001b[0m\u001b[0m\n\u001b[0;32m----> 6\u001b[0;31m \u001b[0mprint\u001b[0m\u001b[0;34m(\u001b[0m\u001b[0md\u001b[0m\u001b[0;34m[\u001b[0m\u001b[0;34m'on333'\u001b[0m\u001b[0;34m]\u001b[0m\u001b[0;34m)\u001b[0m\u001b[0;34m\u001b[0m\u001b[0m\n\u001b[0m",
      "\u001b[0;31mKeyError\u001b[0m: 'on333'"
     ]
    }
   ],
   "source": [
    "# 根据自定键返回向乙方的值，好处是可以设置默认值\n",
    "d = {'one':1,'two':2,'three':3}\n",
    "print(d.get('on333'))\n",
    "print(d.get('one',100))#有key则返回key的键值对\n",
    "print(d.get('one123123',100))#无key则返回100\n",
    "print(d['on333'])"
   ]
  },
  {
   "cell_type": "code",
   "execution_count": 27,
   "metadata": {},
   "outputs": [
    {
     "name": "stdout",
     "output_type": "stream",
     "text": [
      "{'one': 'lalalalal', 'two': 'lalalalal', 'three': 'lalalalal'}\n"
     ]
    }
   ],
   "source": [
    "#fromkeys : 使用指定的序列作为键，使用一个值作为字典额所有键的值\n",
    "d = ['one', 'two' , 'three']\n",
    "#注意fromkeys的两个参数的类型\n",
    "d = dict.fromkeys(d,'lalalalal')\n",
    "print(d)"
   ]
  },
  {
   "cell_type": "code",
   "execution_count": null,
   "metadata": {},
   "outputs": [],
   "source": []
  },
  {
   "cell_type": "code",
   "execution_count": null,
   "metadata": {},
   "outputs": [],
   "source": []
  },
  {
   "cell_type": "code",
   "execution_count": null,
   "metadata": {},
   "outputs": [],
   "source": []
  },
  {
   "cell_type": "code",
   "execution_count": null,
   "metadata": {},
   "outputs": [],
   "source": []
  },
  {
   "cell_type": "code",
   "execution_count": null,
   "metadata": {},
   "outputs": [],
   "source": []
  },
  {
   "cell_type": "code",
   "execution_count": null,
   "metadata": {},
   "outputs": [],
   "source": []
  },
  {
   "cell_type": "code",
   "execution_count": null,
   "metadata": {},
   "outputs": [],
   "source": []
  },
  {
   "cell_type": "code",
   "execution_count": null,
   "metadata": {},
   "outputs": [],
   "source": []
  },
  {
   "cell_type": "code",
   "execution_count": null,
   "metadata": {},
   "outputs": [],
   "source": []
  },
  {
   "cell_type": "code",
   "execution_count": null,
   "metadata": {},
   "outputs": [],
   "source": []
  },
  {
   "cell_type": "code",
   "execution_count": null,
   "metadata": {},
   "outputs": [],
   "source": []
  },
  {
   "cell_type": "code",
   "execution_count": null,
   "metadata": {},
   "outputs": [],
   "source": []
  },
  {
   "cell_type": "code",
   "execution_count": null,
   "metadata": {},
   "outputs": [],
   "source": []
  },
  {
   "cell_type": "code",
   "execution_count": null,
   "metadata": {},
   "outputs": [],
   "source": []
  }
 ],
 "metadata": {
  "kernelspec": {
   "display_name": "Python 3",
   "language": "python",
   "name": "python3"
  },
  "language_info": {
   "codemirror_mode": {
    "name": "ipython",
    "version": 3
   },
   "file_extension": ".py",
   "mimetype": "text/x-python",
   "name": "python",
   "nbconvert_exporter": "python",
   "pygments_lexer": "ipython3",
   "version": "3.6.5"
  }
 },
 "nbformat": 4,
 "nbformat_minor": 2
}
