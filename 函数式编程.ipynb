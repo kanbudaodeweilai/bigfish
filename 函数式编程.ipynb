{
 "cells": [
  {
   "cell_type": "markdown",
   "metadata": {},
   "source": [
    "# Log 模块资料\n",
    "- http://www.cnblogs.com/yyds/p/6901864.html\n"
   ]
  },
  {
   "cell_type": "markdown",
   "metadata": {},
   "source": [
    "# Python语言的高级特性\n",
    "\n",
    "## 函数式编程（FunctionalProgramming）\n",
    "- 给予lambda演算的一种编程方式\n",
    "    - 程序中只有函数\n",
    "    - 函数可以作为参数，同样可以作为返回值\n",
    "    - 纯函数式编程语言： LISP ，Haskell\n",
    "\n",
    "- Python函数式编程只是借鉴函数式编程的一些特点。\n",
    "- 主要内容\n",
    "    - 高阶函数\n",
    "    - 返回函数\n",
    "    - 匿名函数\n",
    "    - 装饰器\n",
    "    - 偏函数\n",
    "    \n"
   ]
  },
  {
   "cell_type": "markdown",
   "metadata": {},
   "source": [
    "### lambda 表达式\n",
    "- 函数：  最大程度复用代码\n",
    "    - 存在问题： 如果函数很小，很短，就是造成啰嗦，麻烦\n",
    "    - 阅读费劲\n",
    "- lambda表达式（匿名函数）\n",
    "    - 一个表达式，函数体相对简单\n",
    "    - 不是一个代码块，仅仅是一个表达式\n",
    "    - 可以有参数，有很多参数也可以，用逗号隔开\n",
    "    "
   ]
  },
  {
   "cell_type": "code",
   "execution_count": 1,
   "metadata": {},
   "outputs": [
    {
     "name": "stdout",
     "output_type": "stream",
     "text": [
      "AAAAA\n"
     ]
    }
   ],
   "source": [
    "# ‘小’函数的例子,啰嗦问题\n",
    "def printA():\n",
    "    print('AAAAA')\n",
    "    \n",
    "printA()"
   ]
  },
  {
   "cell_type": "code",
   "execution_count": 5,
   "metadata": {},
   "outputs": [
    {
     "data": {
      "text/plain": [
       "8900"
      ]
     },
     "execution_count": 5,
     "metadata": {},
     "output_type": "execute_result"
    }
   ],
   "source": [
    "# lambda 表达式用法\n",
    "# 1. 以lambda开呕吐\n",
    "# 2. 紧跟一定的参数（如果有的话）\n",
    "# 3. 参数后面用冒号和表达式主题隔开\n",
    "# 4. 只是一个表达式，所以没有return\n",
    "\n",
    "# 计算一个数字的100倍数\n",
    "stm = lambda x:100 * x\n",
    "# 使用上跟函数调用一模一样\n",
    "stm(89)\n"
   ]
  },
  {
   "cell_type": "code",
   "execution_count": 6,
   "metadata": {},
   "outputs": [
    {
     "data": {
      "text/plain": [
       "10040"
      ]
     },
     "execution_count": 6,
     "metadata": {},
     "output_type": "execute_result"
    }
   ],
   "source": [
    "stm1 = lambda x,y,z: x + y*10 + z*100\n",
    "stm1(10,23,98)"
   ]
  },
  {
   "cell_type": "markdown",
   "metadata": {},
   "source": [
    "## 高阶函数\n",
    "- 把函数作为参数使用的函数，叫高阶函数\n"
   ]
  },
  {
   "cell_type": "code",
   "execution_count": 7,
   "metadata": {},
   "outputs": [
    {
     "name": "stdout",
     "output_type": "stream",
     "text": [
      "100\n"
     ]
    }
   ],
   "source": [
    "# 变量可以赋值\n",
    "a = 100\n",
    "b = a\n",
    "print(b)"
   ]
  },
  {
   "cell_type": "code",
   "execution_count": 9,
   "metadata": {},
   "outputs": [
    {
     "name": "stdout",
     "output_type": "stream",
     "text": [
      "lalllal\n"
     ]
    }
   ],
   "source": [
    "# 函数名称就是一个变量\n",
    "def funA():\n",
    "    print('lalllal')\n",
    "    \n",
    "funB = funA\n",
    "funB()"
   ]
  },
  {
   "cell_type": "markdown",
   "metadata": {},
   "source": [
    "### 以上代码得出的结论\n",
    "- 函数名称是变量\n",
    "- funB和funA只是名称不一样而已\n",
    "- 既然函数名称是变量，就能够被当作参数传入另一个函数\n"
   ]
  },
  {
   "cell_type": "code",
   "execution_count": 4,
   "metadata": {},
   "outputs": [
    {
     "name": "stdout",
     "output_type": "stream",
     "text": [
      "2700\n",
      "2700\n",
      "210\n"
     ]
    }
   ],
   "source": [
    "# 高阶函数举例\n",
    "# funA 是普通的函数，返回一个传入数字的100被数字\n",
    "def funA(n):\n",
    "    return n*100\n",
    "\n",
    "# 在写一个函数，把传入参数乘以300倍\n",
    "def funB(n):\n",
    "    return funA(n)*3\n",
    "\n",
    "print(funB(9))\n",
    "\n",
    "\n",
    "# 写一个高阶函数\n",
    "def funC(n,f):\n",
    "    #假定函数是把n扩大100呗\n",
    "    return f(n) * 3\n",
    "print(funC(9,funA))\n",
    "\n",
    "# 比较funC和funB ，显然funC比funB优秀\n",
    "# 更灵活,例如：\n",
    "def funD(n):\n",
    "    return n*10\n",
    "#需求变更，需要放大30倍，此时funB无法实现\n",
    "print(funC(7,funD))"
   ]
  },
  {
   "cell_type": "markdown",
   "metadata": {},
   "source": [
    "### 系统高阶函数 - map\n",
    "- 原意是映射，即吧集合或者列表的元素，每个元素都按照一定的规则进行操作，生成一个新的列表或者集合\n",
    "- map函数就是系统提供的具有映射功能的函数，返回值是一个迭代对象\n"
   ]
  },
  {
   "cell_type": "code",
   "execution_count": 10,
   "metadata": {},
   "outputs": [
    {
     "name": "stdout",
     "output_type": "stream",
     "text": [
      "[0, 1, 2, 3, 4, 5, 6, 7, 8, 9]\n",
      "[0, 10, 20, 30, 40, 50, 60, 70, 80, 90]\n",
      "<class 'map'>\n",
      "0\n",
      "10\n",
      "20\n",
      "30\n",
      "40\n",
      "50\n",
      "60\n",
      "70\n",
      "80\n",
      "90\n",
      "[]\n"
     ]
    }
   ],
   "source": [
    "# map 举例\n",
    "# 有一个列表，相对列表里的每个元素乘以10，并得到新的列表\n",
    "l1 = [i for i in range(10)]\n",
    "print(l1)\n",
    "l2 = []\n",
    "for i in l1:\n",
    "    l2.append(i * 10)\n",
    "    \n",
    "print(l2)\n",
    "\n",
    "# 利用map实现的例子：\n",
    "def mulTen(n):\n",
    "    return n * 10\n",
    "l3 = map(mulTen , l1)\n",
    "print(type(l3))\n",
    "for i in l3:\n",
    "    print(i)\n",
    "\n",
    "# 一下列表生成式得到的结果为空，为什么？？\n",
    "l4 = [i for i in l3]\n",
    "print(l4)"
   ]
  },
  {
   "cell_type": "markdown",
   "metadata": {},
   "source": [
    "### reduce\n",
    "- 原意是归并，缩减\n",
    "- 吧一个可迭代对象最后归并成一个结果\n",
    "- 对于作为参数的函数要求： 必须有两个参数，必须有返回结果\n",
    "- reduce（[1,2，3，4,5]）== f(f(f(f(1,2),3),4),5)\n",
    "- reduce 需要大偶然functools包\n"
   ]
  },
  {
   "cell_type": "code",
   "execution_count": 12,
   "metadata": {},
   "outputs": [
    {
     "name": "stdout",
     "output_type": "stream",
     "text": [
      "21\n"
     ]
    }
   ],
   "source": [
    "from functools import reduce\n",
    "\n",
    "# 定义一个操作函数\n",
    "# 加入操作函数只是相加\n",
    "def myAdd(x,y):\n",
    "    return x + y\n",
    "# 对于列表[1,2,3,4,5,6]执行myAdd的reduce操作\n",
    "rst = reduce(myAdd,[1,2,3,4,5,6])\n",
    "print(rst)"
   ]
  },
  {
   "cell_type": "markdown",
   "metadata": {},
   "source": [
    "### filter函数\n",
    "- 过滤函数:对一组数据进行过滤，符合条件的数据会生成一个新的列表并返回\n",
    "- 跟map相比：\n",
    "    - 相同：都对列表的每一个元素逐一进行操作\n",
    "    - 不同：\n",
    "        - map会生成一个跟原来数据相对应的新队列\n",
    "        - filter不一定，只要符合条件的才会进入新的数据集合\n",
    "    - filter函数怎么写：\n",
    "        - 利用给定函数进行判断\n",
    "        - 返回值一定是布尔值\n",
    "        - 调用格式：filter（f，data），f是过滤函数，data是数据"
   ]
  },
  {
   "cell_type": "code",
   "execution_count": 4,
   "metadata": {},
   "outputs": [
    {
     "name": "stdout",
     "output_type": "stream",
     "text": [
      "<class 'filter'>\n",
      "<filter object at 0x7f1064636eb8>\n",
      "[2, 4, 6, 456, 78, 3122]\n"
     ]
    }
   ],
   "source": [
    "#filter 案例\n",
    "#对于一个列表，对其进行过滤，偶数组成一个新列表\n",
    "\n",
    "#需要定义过滤函数\n",
    "#过滤函数要求有输入，返回布尔值\n",
    "def isEven(a):\n",
    "    return a % 2 == 0\n",
    "l = [2,4,5,1,6,3,456,78,45,213,3122]\n",
    "rst = filter(isEven,l)\n",
    "print(type(rst))\n",
    "print(rst)\n",
    "\n",
    "print([i for i in rst])"
   ]
  },
  {
   "cell_type": "markdown",
   "metadata": {},
   "source": [
    "### 高阶函数- 排序\n",
    "- 把一个序列按照给定算法进行排序\n",
    "- key：在排序前对每个元素进行key函数运算，可以理解成按照key函数定义的逻辑进行排序\n",
    "- Python2和Python3相差较多\n"
   ]
  },
  {
   "cell_type": "code",
   "execution_count": 2,
   "metadata": {},
   "outputs": [
    {
     "name": "stdout",
     "output_type": "stream",
     "text": [
      "[5456, 798, 456, 123, 51, 4]\n"
     ]
    }
   ],
   "source": [
    "# 排序案例\n",
    "\n",
    "a = [123,5456,51,4,798,456]\n",
    "al = sorted(a,reverse = True)\n",
    "print(al)"
   ]
  },
  {
   "cell_type": "code",
   "execution_count": 4,
   "metadata": {},
   "outputs": [
    {
     "name": "stdout",
     "output_type": "stream",
     "text": [
      "[14124, 1232, -323, -213, 124, 123]\n"
     ]
    }
   ],
   "source": [
    "#排序案例2\n",
    "a = [-213,1232,-323,123,124,14124]\n",
    "#按绝对值进行排序\n",
    "#abs是求绝对值的意思\n",
    "#即按照绝对值的倒叙排序\n",
    "al = sorted(a,key=abs,reverse = True)\n",
    "print(al)"
   ]
  },
  {
   "cell_type": "code",
   "execution_count": 6,
   "metadata": {},
   "outputs": [
    {
     "name": "stdout",
     "output_type": "stream",
     "text": [
      "['Dsdasrwas', 'ahsda#hdkja', 'asd', 'asdads']\n",
      "['ahsda#hdkja', 'asd', 'asdads', 'Dsdasrwas']\n"
     ]
    }
   ],
   "source": [
    "# sorted案例\n",
    "astr = ['asdads','Dsdasrwas','ahsda#hdkja','asd']\n",
    "\n",
    "str1 = sorted(astr)\n",
    "print(str1)\n",
    "\n",
    "str2 = sorted(astr , key = str.lower)\n",
    "print(str2)"
   ]
  },
  {
   "cell_type": "code",
   "execution_count": 7,
   "metadata": {},
   "outputs": [
    {
     "name": "stdout",
     "output_type": "stream",
     "text": [
      "Help on built-in function sorted in module builtins:\n",
      "\n",
      "sorted(iterable, /, *, key=None, reverse=False)\n",
      "    Return a new list containing all items from the iterable in ascending order.\n",
      "    \n",
      "    A custom key function can be supplied to customize the sort order, and the\n",
      "    reverse flag can be set to request the result in descending order.\n",
      "\n"
     ]
    }
   ],
   "source": [
    "help(sorted)\n",
    "#有关在内置模块中排序的内置函数的帮助：\n",
    "\n",
    "sorted（iterable，/，*，key = None，reverse = False）\n",
    "     以升序返回包含iterable中所有项的新列表。\n",
    "    \n",
    "     可以提供自定义键功能来自定义排序顺序，以及\n",
    "     可以设置反向标志以按降序请求结果。"
   ]
  },
  {
   "cell_type": "markdown",
   "metadata": {},
   "source": [
    "# 返回函数\n",
    "- 函数可以返回具体的值\n",
    "- 也可以范湖一个函数作为结果\n"
   ]
  },
  {
   "cell_type": "code",
   "execution_count": 13,
   "metadata": {},
   "outputs": [
    {
     "name": "stdout",
     "output_type": "stream",
     "text": [
      "I am myF\n",
      "None\n"
     ]
    }
   ],
   "source": [
    "# 定义一个普通函数\n",
    "def myF(a):\n",
    "    print('I am myF')\n",
    "    return None\n",
    "\n",
    "a = myF(2)\n",
    "print(a)"
   ]
  },
  {
   "cell_type": "code",
   "execution_count": 19,
   "metadata": {},
   "outputs": [
    {
     "name": "stdout",
     "output_type": "stream",
     "text": [
      "<class 'function'>\n",
      "<function myF2.<locals>.myF3 at 0x7f38a033d0d0>\n",
      "i am myF3\n"
     ]
    },
    {
     "data": {
      "text/plain": [
       "3"
      ]
     },
     "execution_count": 19,
     "metadata": {},
     "output_type": "execute_result"
    }
   ],
   "source": [
    "# 函数作为返回值返回，被返回的函数在函数体内定义\n",
    "def myF2():\n",
    "    \n",
    "    def myF3():\n",
    "        print('i am myF3')\n",
    "        return 3\n",
    "    return myF3\n",
    "# 使用上面的定义\n",
    "# 调用myF2 ，返回一个函数myF3， 赋值给f3\n",
    "f3 = myF2()\n",
    "print(type(f3))\n",
    "print(f3)\n",
    "f3()"
   ]
  },
  {
   "cell_type": "code",
   "execution_count": 34,
   "metadata": {},
   "outputs": [
    {
     "data": {
      "text/plain": [
       "81"
      ]
     },
     "execution_count": 34,
     "metadata": {},
     "output_type": "execute_result"
    }
   ],
   "source": [
    "# 复杂些的返回函数例子\n",
    "# args ： 参数列表\n",
    "# 1. myF4定义函数，返回内部定义函数和myF5\n",
    "# 2. myF5使用了外部变量，这个变量是myF4的参数\n",
    "\n",
    "def myF4( *args):\n",
    "    def myF5():\n",
    "        rst = 0\n",
    "        for n in args:\n",
    "            rst += n\n",
    "        return rst\n",
    "    return myF5\n",
    "f5 = myF4(1,2,3,45,6,7,8,9)\n",
    "# f5的调用方式\n",
    "f5()\n"
   ]
  },
  {
   "cell_type": "markdown",
   "metadata": {},
   "source": [
    "# 闭包（closure）\n",
    "- 当一个函数在内部定义函数，并且内部的函数应用外部的参数或者局部变量，当内部函数被当做返回值的时候，相关参数和变量保存在返回的函数中，这种结果，叫做闭包。\n",
    "- 上面的myF4是一个标准的闭包结构"
   ]
  },
  {
   "cell_type": "code",
   "execution_count": 42,
   "metadata": {},
   "outputs": [
    {
     "name": "stdout",
     "output_type": "stream",
     "text": [
      "9\n",
      "9\n",
      "9\n"
     ]
    }
   ],
   "source": [
    "# 闭包常见的坑！\n",
    "def count():\n",
    "    fs = []\n",
    "    for i in range(1,4):\n",
    "        def f():\n",
    "            return i*i\n",
    "        fs.append(f)\n",
    "    return fs\n",
    "f1,f2,f3 = count()\n",
    "print(f1())\n",
    "print(f2())\n",
    "print(f3())\n",
    "### 出现的问题：\n",
    "# 造成上述状况的原因是返回函数引用了变量i，i并非立即执行，而是等到三个函数都返回的时候才统一使用，此时的i已经编程了3，最终调用的时候，都返回的是3*3\n",
    "# 返回闭包的时候，返回函数不能引用任何循环变量！！！！"
   ]
  },
  {
   "cell_type": "code",
   "execution_count": 46,
   "metadata": {},
   "outputs": [
    {
     "name": "stdout",
     "output_type": "stream",
     "text": [
      "1\n",
      "4\n",
      "9\n"
     ]
    }
   ],
   "source": [
    "# 解决方案：再创建一个函数，用该函数的参数绑定循环变量的当前在，无论该循环变量以后如何改变，已经绑定的函数值不在改变\n",
    "\n",
    "def count():\n",
    "    def f(j):\n",
    "        def g():\n",
    "            return j*j\n",
    "        \n",
    "        return g\n",
    "    fs = []\n",
    "    for i in range(1,4):\n",
    "        fs.append(f(i))\n",
    "                        \n",
    "    return fs\n",
    "f1,f2,f3 = count()\n",
    "print(f1())\n",
    "print(f2())\n",
    "print(f3())"
   ]
  },
  {
   "cell_type": "markdown",
   "metadata": {},
   "source": [
    "# 装饰器\n",
    "- 在不改动函数代码的基础上无限制扩展函数的功能的一种机制，本质上讲，装饰器是一个返回函数的高阶函数\n",
    "- 装饰器的使用： 使用@语法，即在每次要扩展的函数定义前使用@+函数名"
   ]
  },
  {
   "cell_type": "code",
   "execution_count": 51,
   "metadata": {},
   "outputs": [
    {
     "name": "stdout",
     "output_type": "stream",
     "text": [
      "Time Sun Nov  4 13:17:04 2018\n",
      "hello world\n"
     ]
    }
   ],
   "source": [
    "# 对打印hello进行扩展，每次打印hello之前打印出当前时间\n",
    "# 而实现这个功能又不能改动现有代码\n",
    "# ==> 使用装饰器\n",
    "import time\n",
    "# 高阶函数，以函数作为参数\n",
    "def printTime(f):\n",
    "    def wrapper(*args , **kwargs):\n",
    "        print('Time',time.ctime())\n",
    "        return f(*args , **kwargs)\n",
    "    return wrapper\n",
    "# 上面的代码定义了装饰器，使用的时候需要@，此符号为Python的语法糖\n",
    "@printTime\n",
    "def hello():\n",
    "    print(\"hello world\")\n",
    "hello()"
   ]
  },
  {
   "cell_type": "code",
   "execution_count": 52,
   "metadata": {},
   "outputs": [
    {
     "name": "stdout",
     "output_type": "stream",
     "text": [
      "Time Sun Nov  4 13:21:14 2018\n",
      "asdasdasd\n",
      "dhajksdhkasjdhka\n"
     ]
    }
   ],
   "source": [
    "# 装饰起的好处，一点定义，都可以装饰任何函数\n",
    "# 一旦被其装饰，则吧装饰器的功能添加到了定义函数的功能上\n",
    "@printTime\n",
    "def hello2():\n",
    "    print('asdasdasd')\n",
    "    \n",
    "    print('dhajksdhkasjdhka')\n",
    "hello2()\n"
   ]
  },
  {
   "cell_type": "markdown",
   "metadata": {},
   "source": [
    "### 偏函数\n",
    "- 参数固定的函数，相当于一个由疼参数好的函数体\n",
    "- functools.partial的作用是，把一个函数做些函数固定，返回一个新函数"
   ]
  },
  {
   "cell_type": "code",
   "execution_count": 55,
   "metadata": {},
   "outputs": [
    {
     "name": "stdout",
     "output_type": "stream",
     "text": [
      "<class 'int'>\n",
      "219566\n"
     ]
    }
   ],
   "source": [
    "# 把字符串转换成10进制数字\n",
    "a =int('65465456')\n",
    "print(type(a))\n",
    "# 转换成8进制\n",
    "b = int('654656' , base = 8)\n",
    "print(b)"
   ]
  },
  {
   "cell_type": "code",
   "execution_count": 56,
   "metadata": {},
   "outputs": [
    {
     "data": {
      "text/plain": [
       "769026869"
      ]
     },
     "execution_count": 56,
     "metadata": {},
     "output_type": "execute_result"
    }
   ],
   "source": [
    "import functools\n",
    "# 实现上面转换成8进制的功能\n",
    "int8 = functools.partial(int , base = 8)\n",
    "int8('5565465465')"
   ]
  },
  {
   "cell_type": "code",
   "execution_count": null,
   "metadata": {},
   "outputs": [],
   "source": []
  },
  {
   "cell_type": "code",
   "execution_count": null,
   "metadata": {},
   "outputs": [],
   "source": []
  },
  {
   "cell_type": "code",
   "execution_count": null,
   "metadata": {},
   "outputs": [],
   "source": []
  },
  {
   "cell_type": "code",
   "execution_count": null,
   "metadata": {},
   "outputs": [],
   "source": []
  },
  {
   "cell_type": "code",
   "execution_count": null,
   "metadata": {},
   "outputs": [],
   "source": []
  },
  {
   "cell_type": "code",
   "execution_count": null,
   "metadata": {},
   "outputs": [],
   "source": []
  },
  {
   "cell_type": "code",
   "execution_count": null,
   "metadata": {},
   "outputs": [],
   "source": []
  },
  {
   "cell_type": "code",
   "execution_count": null,
   "metadata": {},
   "outputs": [],
   "source": []
  },
  {
   "cell_type": "code",
   "execution_count": null,
   "metadata": {},
   "outputs": [],
   "source": []
  },
  {
   "cell_type": "code",
   "execution_count": null,
   "metadata": {},
   "outputs": [],
   "source": []
  },
  {
   "cell_type": "code",
   "execution_count": null,
   "metadata": {},
   "outputs": [],
   "source": []
  },
  {
   "cell_type": "code",
   "execution_count": null,
   "metadata": {},
   "outputs": [],
   "source": []
  },
  {
   "cell_type": "code",
   "execution_count": null,
   "metadata": {},
   "outputs": [],
   "source": []
  },
  {
   "cell_type": "code",
   "execution_count": null,
   "metadata": {},
   "outputs": [],
   "source": []
  },
  {
   "cell_type": "code",
   "execution_count": null,
   "metadata": {},
   "outputs": [],
   "source": []
  },
  {
   "cell_type": "code",
   "execution_count": null,
   "metadata": {},
   "outputs": [],
   "source": []
  },
  {
   "cell_type": "code",
   "execution_count": null,
   "metadata": {},
   "outputs": [],
   "source": []
  },
  {
   "cell_type": "code",
   "execution_count": null,
   "metadata": {},
   "outputs": [],
   "source": []
  },
  {
   "cell_type": "code",
   "execution_count": null,
   "metadata": {},
   "outputs": [],
   "source": []
  },
  {
   "cell_type": "code",
   "execution_count": null,
   "metadata": {},
   "outputs": [],
   "source": []
  },
  {
   "cell_type": "code",
   "execution_count": null,
   "metadata": {},
   "outputs": [],
   "source": [
    "\n"
   ]
  }
 ],
 "metadata": {
  "kernelspec": {
   "display_name": "Python 3",
   "language": "python",
   "name": "python3"
  },
  "language_info": {
   "codemirror_mode": {
    "name": "ipython",
    "version": 3
   },
   "file_extension": ".py",
   "mimetype": "text/x-python",
   "name": "python",
   "nbconvert_exporter": "python",
   "pygments_lexer": "ipython3",
   "version": "3.6.6"
  }
 },
 "nbformat": 4,
 "nbformat_minor": 2
}
